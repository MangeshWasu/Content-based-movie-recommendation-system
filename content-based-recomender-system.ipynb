{
 "cells": [
  {
   "cell_type": "code",
   "execution_count": 1,
   "id": "4ee14bb3",
   "metadata": {
    "_cell_guid": "b1076dfc-b9ad-4769-8c92-a6c4dae69d19",
    "_uuid": "8f2839f25d086af736a60e9eeb907d3b93b6e0e5",
    "execution": {
     "iopub.execute_input": "2023-03-25T11:59:31.198736Z",
     "iopub.status.busy": "2023-03-25T11:59:31.198240Z",
     "iopub.status.idle": "2023-03-25T11:59:32.846765Z",
     "shell.execute_reply": "2023-03-25T11:59:32.845492Z"
    },
    "papermill": {
     "duration": 1.6655,
     "end_time": "2023-03-25T11:59:32.849458",
     "exception": false,
     "start_time": "2023-03-25T11:59:31.183958",
     "status": "completed"
    },
    "tags": []
   },
   "outputs": [],
   "source": [
    "import pandas as pd\n",
    "import numpy as np\n",
    "\n",
    "import ast \n",
    "\n",
    "from sklearn.feature_extraction.text import CountVectorizer\n",
    "from nltk.stem.porter import PorterStemmer\n",
    "from sklearn.metrics.pairwise import cosine_similarity"
   ]
  },
  {
   "cell_type": "code",
   "execution_count": 2,
   "id": "4b3b0d4b",
   "metadata": {
    "execution": {
     "iopub.execute_input": "2023-03-25T11:59:32.876962Z",
     "iopub.status.busy": "2023-03-25T11:59:32.876552Z",
     "iopub.status.idle": "2023-03-25T11:59:33.683469Z",
     "shell.execute_reply": "2023-03-25T11:59:33.682423Z"
    },
    "papermill": {
     "duration": 0.82399,
     "end_time": "2023-03-25T11:59:33.685918",
     "exception": false,
     "start_time": "2023-03-25T11:59:32.861928",
     "status": "completed"
    },
    "tags": []
   },
   "outputs": [],
   "source": [
    "data_credits=pd.read_csv('/kaggle/input/tmdb-movie-metadata/tmdb_5000_credits.csv')"
   ]
  },
  {
   "cell_type": "code",
   "execution_count": 3,
   "id": "653c108d",
   "metadata": {
    "execution": {
     "iopub.execute_input": "2023-03-25T11:59:33.710983Z",
     "iopub.status.busy": "2023-03-25T11:59:33.710656Z",
     "iopub.status.idle": "2023-03-25T11:59:33.734121Z",
     "shell.execute_reply": "2023-03-25T11:59:33.733108Z"
    },
    "papermill": {
     "duration": 0.038074,
     "end_time": "2023-03-25T11:59:33.735857",
     "exception": false,
     "start_time": "2023-03-25T11:59:33.697783",
     "status": "completed"
    },
    "tags": []
   },
   "outputs": [
    {
     "data": {
      "text/html": [
       "<div>\n",
       "<style scoped>\n",
       "    .dataframe tbody tr th:only-of-type {\n",
       "        vertical-align: middle;\n",
       "    }\n",
       "\n",
       "    .dataframe tbody tr th {\n",
       "        vertical-align: top;\n",
       "    }\n",
       "\n",
       "    .dataframe thead th {\n",
       "        text-align: right;\n",
       "    }\n",
       "</style>\n",
       "<table border=\"1\" class=\"dataframe\">\n",
       "  <thead>\n",
       "    <tr style=\"text-align: right;\">\n",
       "      <th></th>\n",
       "      <th>movie_id</th>\n",
       "      <th>title</th>\n",
       "      <th>cast</th>\n",
       "      <th>crew</th>\n",
       "    </tr>\n",
       "  </thead>\n",
       "  <tbody>\n",
       "    <tr>\n",
       "      <th>0</th>\n",
       "      <td>19995</td>\n",
       "      <td>Avatar</td>\n",
       "      <td>[{\"cast_id\": 242, \"character\": \"Jake Sully\", \"...</td>\n",
       "      <td>[{\"credit_id\": \"52fe48009251416c750aca23\", \"de...</td>\n",
       "    </tr>\n",
       "    <tr>\n",
       "      <th>1</th>\n",
       "      <td>285</td>\n",
       "      <td>Pirates of the Caribbean: At World's End</td>\n",
       "      <td>[{\"cast_id\": 4, \"character\": \"Captain Jack Spa...</td>\n",
       "      <td>[{\"credit_id\": \"52fe4232c3a36847f800b579\", \"de...</td>\n",
       "    </tr>\n",
       "    <tr>\n",
       "      <th>2</th>\n",
       "      <td>206647</td>\n",
       "      <td>Spectre</td>\n",
       "      <td>[{\"cast_id\": 1, \"character\": \"James Bond\", \"cr...</td>\n",
       "      <td>[{\"credit_id\": \"54805967c3a36829b5002c41\", \"de...</td>\n",
       "    </tr>\n",
       "    <tr>\n",
       "      <th>3</th>\n",
       "      <td>49026</td>\n",
       "      <td>The Dark Knight Rises</td>\n",
       "      <td>[{\"cast_id\": 2, \"character\": \"Bruce Wayne / Ba...</td>\n",
       "      <td>[{\"credit_id\": \"52fe4781c3a36847f81398c3\", \"de...</td>\n",
       "    </tr>\n",
       "    <tr>\n",
       "      <th>4</th>\n",
       "      <td>49529</td>\n",
       "      <td>John Carter</td>\n",
       "      <td>[{\"cast_id\": 5, \"character\": \"John Carter\", \"c...</td>\n",
       "      <td>[{\"credit_id\": \"52fe479ac3a36847f813eaa3\", \"de...</td>\n",
       "    </tr>\n",
       "    <tr>\n",
       "      <th>...</th>\n",
       "      <td>...</td>\n",
       "      <td>...</td>\n",
       "      <td>...</td>\n",
       "      <td>...</td>\n",
       "    </tr>\n",
       "    <tr>\n",
       "      <th>4798</th>\n",
       "      <td>9367</td>\n",
       "      <td>El Mariachi</td>\n",
       "      <td>[{\"cast_id\": 1, \"character\": \"El Mariachi\", \"c...</td>\n",
       "      <td>[{\"credit_id\": \"52fe44eec3a36847f80b280b\", \"de...</td>\n",
       "    </tr>\n",
       "    <tr>\n",
       "      <th>4799</th>\n",
       "      <td>72766</td>\n",
       "      <td>Newlyweds</td>\n",
       "      <td>[{\"cast_id\": 1, \"character\": \"Buzzy\", \"credit_...</td>\n",
       "      <td>[{\"credit_id\": \"52fe487dc3a368484e0fb013\", \"de...</td>\n",
       "    </tr>\n",
       "    <tr>\n",
       "      <th>4800</th>\n",
       "      <td>231617</td>\n",
       "      <td>Signed, Sealed, Delivered</td>\n",
       "      <td>[{\"cast_id\": 8, \"character\": \"Oliver O\\u2019To...</td>\n",
       "      <td>[{\"credit_id\": \"52fe4df3c3a36847f8275ecf\", \"de...</td>\n",
       "    </tr>\n",
       "    <tr>\n",
       "      <th>4801</th>\n",
       "      <td>126186</td>\n",
       "      <td>Shanghai Calling</td>\n",
       "      <td>[{\"cast_id\": 3, \"character\": \"Sam\", \"credit_id...</td>\n",
       "      <td>[{\"credit_id\": \"52fe4ad9c3a368484e16a36b\", \"de...</td>\n",
       "    </tr>\n",
       "    <tr>\n",
       "      <th>4802</th>\n",
       "      <td>25975</td>\n",
       "      <td>My Date with Drew</td>\n",
       "      <td>[{\"cast_id\": 3, \"character\": \"Herself\", \"credi...</td>\n",
       "      <td>[{\"credit_id\": \"58ce021b9251415a390165d9\", \"de...</td>\n",
       "    </tr>\n",
       "  </tbody>\n",
       "</table>\n",
       "<p>4803 rows × 4 columns</p>\n",
       "</div>"
      ],
      "text/plain": [
       "      movie_id                                     title  \\\n",
       "0        19995                                    Avatar   \n",
       "1          285  Pirates of the Caribbean: At World's End   \n",
       "2       206647                                   Spectre   \n",
       "3        49026                     The Dark Knight Rises   \n",
       "4        49529                               John Carter   \n",
       "...        ...                                       ...   \n",
       "4798      9367                               El Mariachi   \n",
       "4799     72766                                 Newlyweds   \n",
       "4800    231617                 Signed, Sealed, Delivered   \n",
       "4801    126186                          Shanghai Calling   \n",
       "4802     25975                         My Date with Drew   \n",
       "\n",
       "                                                   cast  \\\n",
       "0     [{\"cast_id\": 242, \"character\": \"Jake Sully\", \"...   \n",
       "1     [{\"cast_id\": 4, \"character\": \"Captain Jack Spa...   \n",
       "2     [{\"cast_id\": 1, \"character\": \"James Bond\", \"cr...   \n",
       "3     [{\"cast_id\": 2, \"character\": \"Bruce Wayne / Ba...   \n",
       "4     [{\"cast_id\": 5, \"character\": \"John Carter\", \"c...   \n",
       "...                                                 ...   \n",
       "4798  [{\"cast_id\": 1, \"character\": \"El Mariachi\", \"c...   \n",
       "4799  [{\"cast_id\": 1, \"character\": \"Buzzy\", \"credit_...   \n",
       "4800  [{\"cast_id\": 8, \"character\": \"Oliver O\\u2019To...   \n",
       "4801  [{\"cast_id\": 3, \"character\": \"Sam\", \"credit_id...   \n",
       "4802  [{\"cast_id\": 3, \"character\": \"Herself\", \"credi...   \n",
       "\n",
       "                                                   crew  \n",
       "0     [{\"credit_id\": \"52fe48009251416c750aca23\", \"de...  \n",
       "1     [{\"credit_id\": \"52fe4232c3a36847f800b579\", \"de...  \n",
       "2     [{\"credit_id\": \"54805967c3a36829b5002c41\", \"de...  \n",
       "3     [{\"credit_id\": \"52fe4781c3a36847f81398c3\", \"de...  \n",
       "4     [{\"credit_id\": \"52fe479ac3a36847f813eaa3\", \"de...  \n",
       "...                                                 ...  \n",
       "4798  [{\"credit_id\": \"52fe44eec3a36847f80b280b\", \"de...  \n",
       "4799  [{\"credit_id\": \"52fe487dc3a368484e0fb013\", \"de...  \n",
       "4800  [{\"credit_id\": \"52fe4df3c3a36847f8275ecf\", \"de...  \n",
       "4801  [{\"credit_id\": \"52fe4ad9c3a368484e16a36b\", \"de...  \n",
       "4802  [{\"credit_id\": \"58ce021b9251415a390165d9\", \"de...  \n",
       "\n",
       "[4803 rows x 4 columns]"
      ]
     },
     "execution_count": 3,
     "metadata": {},
     "output_type": "execute_result"
    }
   ],
   "source": [
    "data_credits"
   ]
  },
  {
   "cell_type": "code",
   "execution_count": 4,
   "id": "5acbe7f6",
   "metadata": {
    "execution": {
     "iopub.execute_input": "2023-03-25T11:59:33.763759Z",
     "iopub.status.busy": "2023-03-25T11:59:33.763187Z",
     "iopub.status.idle": "2023-03-25T11:59:33.925643Z",
     "shell.execute_reply": "2023-03-25T11:59:33.924600Z"
    },
    "papermill": {
     "duration": 0.18011,
     "end_time": "2023-03-25T11:59:33.928046",
     "exception": false,
     "start_time": "2023-03-25T11:59:33.747936",
     "status": "completed"
    },
    "tags": []
   },
   "outputs": [],
   "source": [
    "data_movies=pd.read_csv('/kaggle/input/tmdb-movie-metadata/tmdb_5000_movies.csv')"
   ]
  },
  {
   "cell_type": "code",
   "execution_count": 5,
   "id": "4026c5d7",
   "metadata": {
    "execution": {
     "iopub.execute_input": "2023-03-25T11:59:33.953817Z",
     "iopub.status.busy": "2023-03-25T11:59:33.953358Z",
     "iopub.status.idle": "2023-03-25T11:59:33.960826Z",
     "shell.execute_reply": "2023-03-25T11:59:33.959571Z"
    },
    "papermill": {
     "duration": 0.02318,
     "end_time": "2023-03-25T11:59:33.963360",
     "exception": false,
     "start_time": "2023-03-25T11:59:33.940180",
     "status": "completed"
    },
    "tags": []
   },
   "outputs": [
    {
     "data": {
      "text/plain": [
       "(4803, 20)"
      ]
     },
     "execution_count": 5,
     "metadata": {},
     "output_type": "execute_result"
    }
   ],
   "source": [
    "data_movies.shape"
   ]
  },
  {
   "cell_type": "code",
   "execution_count": 6,
   "id": "7c7afc47",
   "metadata": {
    "execution": {
     "iopub.execute_input": "2023-03-25T11:59:33.989533Z",
     "iopub.status.busy": "2023-03-25T11:59:33.989151Z",
     "iopub.status.idle": "2023-03-25T11:59:34.020920Z",
     "shell.execute_reply": "2023-03-25T11:59:34.019935Z"
    },
    "papermill": {
     "duration": 0.048258,
     "end_time": "2023-03-25T11:59:34.023781",
     "exception": false,
     "start_time": "2023-03-25T11:59:33.975523",
     "status": "completed"
    },
    "tags": []
   },
   "outputs": [],
   "source": [
    "movies=data_movies.merge(data_credits,on='title')"
   ]
  },
  {
   "cell_type": "code",
   "execution_count": 7,
   "id": "9b2cc142",
   "metadata": {
    "execution": {
     "iopub.execute_input": "2023-03-25T11:59:34.052509Z",
     "iopub.status.busy": "2023-03-25T11:59:34.051658Z",
     "iopub.status.idle": "2023-03-25T11:59:34.078800Z",
     "shell.execute_reply": "2023-03-25T11:59:34.077622Z"
    },
    "papermill": {
     "duration": 0.04454,
     "end_time": "2023-03-25T11:59:34.081485",
     "exception": false,
     "start_time": "2023-03-25T11:59:34.036945",
     "status": "completed"
    },
    "tags": []
   },
   "outputs": [
    {
     "data": {
      "text/html": [
       "<div>\n",
       "<style scoped>\n",
       "    .dataframe tbody tr th:only-of-type {\n",
       "        vertical-align: middle;\n",
       "    }\n",
       "\n",
       "    .dataframe tbody tr th {\n",
       "        vertical-align: top;\n",
       "    }\n",
       "\n",
       "    .dataframe thead th {\n",
       "        text-align: right;\n",
       "    }\n",
       "</style>\n",
       "<table border=\"1\" class=\"dataframe\">\n",
       "  <thead>\n",
       "    <tr style=\"text-align: right;\">\n",
       "      <th></th>\n",
       "      <th>budget</th>\n",
       "      <th>genres</th>\n",
       "      <th>homepage</th>\n",
       "      <th>id</th>\n",
       "      <th>keywords</th>\n",
       "      <th>original_language</th>\n",
       "      <th>original_title</th>\n",
       "      <th>overview</th>\n",
       "      <th>popularity</th>\n",
       "      <th>production_companies</th>\n",
       "      <th>...</th>\n",
       "      <th>runtime</th>\n",
       "      <th>spoken_languages</th>\n",
       "      <th>status</th>\n",
       "      <th>tagline</th>\n",
       "      <th>title</th>\n",
       "      <th>vote_average</th>\n",
       "      <th>vote_count</th>\n",
       "      <th>movie_id</th>\n",
       "      <th>cast</th>\n",
       "      <th>crew</th>\n",
       "    </tr>\n",
       "  </thead>\n",
       "  <tbody>\n",
       "    <tr>\n",
       "      <th>2772</th>\n",
       "      <td>0</td>\n",
       "      <td>[{\"id\": 12, \"name\": \"Adventure\"}, {\"id\": 35, \"...</td>\n",
       "      <td>NaN</td>\n",
       "      <td>9683</td>\n",
       "      <td>[{\"id\": 725, \"name\": \"lovesickness\"}, {\"id\": 8...</td>\n",
       "      <td>en</td>\n",
       "      <td>Bubble Boy</td>\n",
       "      <td>Jimmy is young man who was born without an imm...</td>\n",
       "      <td>10.131123</td>\n",
       "      <td>[{\"name\": \"Touchstone Pictures\", \"id\": 9195}]</td>\n",
       "      <td>...</td>\n",
       "      <td>84.0</td>\n",
       "      <td>[{\"iso_639_1\": \"en\", \"name\": \"English\"}]</td>\n",
       "      <td>Released</td>\n",
       "      <td>Life is an adventure. Don't blow it.</td>\n",
       "      <td>Bubble Boy</td>\n",
       "      <td>5.1</td>\n",
       "      <td>163</td>\n",
       "      <td>9683</td>\n",
       "      <td>[{\"cast_id\": 1, \"character\": \"Jimmy Livingston...</td>\n",
       "      <td>[{\"credit_id\": \"52fe451bc3a36847f80bcc9f\", \"de...</td>\n",
       "    </tr>\n",
       "    <tr>\n",
       "      <th>4643</th>\n",
       "      <td>250000</td>\n",
       "      <td>[{\"id\": 18, \"name\": \"Drama\"}, {\"id\": 35, \"name...</td>\n",
       "      <td>NaN</td>\n",
       "      <td>32222</td>\n",
       "      <td>[{\"id\": 941, \"name\": \"tradition\"}, {\"id\": 958,...</td>\n",
       "      <td>en</td>\n",
       "      <td>American Desi</td>\n",
       "      <td>This is a fun-loving romantic comedy reminisce...</td>\n",
       "      <td>0.126304</td>\n",
       "      <td>[]</td>\n",
       "      <td>...</td>\n",
       "      <td>100.0</td>\n",
       "      <td>[{\"iso_639_1\": \"en\", \"name\": \"English\"}]</td>\n",
       "      <td>Released</td>\n",
       "      <td>NaN</td>\n",
       "      <td>American Desi</td>\n",
       "      <td>5.0</td>\n",
       "      <td>4</td>\n",
       "      <td>32222</td>\n",
       "      <td>[{\"cast_id\": 1, \"character\": \"Ajay Pandya\", \"c...</td>\n",
       "      <td>[{\"credit_id\": \"57fd2ab3c3a3681b91000b83\", \"de...</td>\n",
       "    </tr>\n",
       "    <tr>\n",
       "      <th>1124</th>\n",
       "      <td>45000000</td>\n",
       "      <td>[{\"id\": 16, \"name\": \"Animation\"}, {\"id\": 35, \"...</td>\n",
       "      <td>NaN</td>\n",
       "      <td>7443</td>\n",
       "      <td>[{\"id\": 2479, \"name\": \"chicken\"}, {\"id\": 6089,...</td>\n",
       "      <td>en</td>\n",
       "      <td>Chicken Run</td>\n",
       "      <td>Having been hopelessly repressed and facing ev...</td>\n",
       "      <td>31.789029</td>\n",
       "      <td>[{\"name\": \"DreamWorks SKG\", \"id\": 27}, {\"name\"...</td>\n",
       "      <td>...</td>\n",
       "      <td>84.0</td>\n",
       "      <td>[{\"iso_639_1\": \"en\", \"name\": \"English\"}]</td>\n",
       "      <td>Released</td>\n",
       "      <td>This ain't no chick flick. It's poultry in mot...</td>\n",
       "      <td>Chicken Run</td>\n",
       "      <td>6.5</td>\n",
       "      <td>1150</td>\n",
       "      <td>7443</td>\n",
       "      <td>[{\"cast_id\": 3, \"character\": \"Rocky (Voice)\", ...</td>\n",
       "      <td>[{\"credit_id\": \"52fe447cc3a36847f80990f1\", \"de...</td>\n",
       "    </tr>\n",
       "    <tr>\n",
       "      <th>4621</th>\n",
       "      <td>300000</td>\n",
       "      <td>[{\"id\": 18, \"name\": \"Drama\"}, {\"id\": 53, \"name...</td>\n",
       "      <td>NaN</td>\n",
       "      <td>2786</td>\n",
       "      <td>[{\"id\": 90, \"name\": \"paris\"}, {\"id\": 5918, \"na...</td>\n",
       "      <td>fr</td>\n",
       "      <td>Pierrot le fou</td>\n",
       "      <td>Pierrot escapes his boring society and travels...</td>\n",
       "      <td>7.791898</td>\n",
       "      <td>[{\"name\": \"Dino de Laurentiis Cinematografica\"...</td>\n",
       "      <td>...</td>\n",
       "      <td>110.0</td>\n",
       "      <td>[{\"iso_639_1\": \"fr\", \"name\": \"Fran\\u00e7ais\"}]</td>\n",
       "      <td>Released</td>\n",
       "      <td>NaN</td>\n",
       "      <td>Pierrot le Fou</td>\n",
       "      <td>7.6</td>\n",
       "      <td>127</td>\n",
       "      <td>2786</td>\n",
       "      <td>[{\"cast_id\": 12, \"character\": \"Ferdinand-Pierr...</td>\n",
       "      <td>[{\"credit_id\": \"52fe436dc3a36847f805355b\", \"de...</td>\n",
       "    </tr>\n",
       "  </tbody>\n",
       "</table>\n",
       "<p>4 rows × 23 columns</p>\n",
       "</div>"
      ],
      "text/plain": [
       "        budget                                             genres homepage  \\\n",
       "2772         0  [{\"id\": 12, \"name\": \"Adventure\"}, {\"id\": 35, \"...      NaN   \n",
       "4643    250000  [{\"id\": 18, \"name\": \"Drama\"}, {\"id\": 35, \"name...      NaN   \n",
       "1124  45000000  [{\"id\": 16, \"name\": \"Animation\"}, {\"id\": 35, \"...      NaN   \n",
       "4621    300000  [{\"id\": 18, \"name\": \"Drama\"}, {\"id\": 53, \"name...      NaN   \n",
       "\n",
       "         id                                           keywords  \\\n",
       "2772   9683  [{\"id\": 725, \"name\": \"lovesickness\"}, {\"id\": 8...   \n",
       "4643  32222  [{\"id\": 941, \"name\": \"tradition\"}, {\"id\": 958,...   \n",
       "1124   7443  [{\"id\": 2479, \"name\": \"chicken\"}, {\"id\": 6089,...   \n",
       "4621   2786  [{\"id\": 90, \"name\": \"paris\"}, {\"id\": 5918, \"na...   \n",
       "\n",
       "     original_language  original_title  \\\n",
       "2772                en      Bubble Boy   \n",
       "4643                en   American Desi   \n",
       "1124                en     Chicken Run   \n",
       "4621                fr  Pierrot le fou   \n",
       "\n",
       "                                               overview  popularity  \\\n",
       "2772  Jimmy is young man who was born without an imm...   10.131123   \n",
       "4643  This is a fun-loving romantic comedy reminisce...    0.126304   \n",
       "1124  Having been hopelessly repressed and facing ev...   31.789029   \n",
       "4621  Pierrot escapes his boring society and travels...    7.791898   \n",
       "\n",
       "                                   production_companies  ... runtime  \\\n",
       "2772      [{\"name\": \"Touchstone Pictures\", \"id\": 9195}]  ...    84.0   \n",
       "4643                                                 []  ...   100.0   \n",
       "1124  [{\"name\": \"DreamWorks SKG\", \"id\": 27}, {\"name\"...  ...    84.0   \n",
       "4621  [{\"name\": \"Dino de Laurentiis Cinematografica\"...  ...   110.0   \n",
       "\n",
       "                                    spoken_languages    status  \\\n",
       "2772        [{\"iso_639_1\": \"en\", \"name\": \"English\"}]  Released   \n",
       "4643        [{\"iso_639_1\": \"en\", \"name\": \"English\"}]  Released   \n",
       "1124        [{\"iso_639_1\": \"en\", \"name\": \"English\"}]  Released   \n",
       "4621  [{\"iso_639_1\": \"fr\", \"name\": \"Fran\\u00e7ais\"}]  Released   \n",
       "\n",
       "                                                tagline           title  \\\n",
       "2772               Life is an adventure. Don't blow it.      Bubble Boy   \n",
       "4643                                                NaN   American Desi   \n",
       "1124  This ain't no chick flick. It's poultry in mot...     Chicken Run   \n",
       "4621                                                NaN  Pierrot le Fou   \n",
       "\n",
       "     vote_average vote_count movie_id  \\\n",
       "2772          5.1        163     9683   \n",
       "4643          5.0          4    32222   \n",
       "1124          6.5       1150     7443   \n",
       "4621          7.6        127     2786   \n",
       "\n",
       "                                                   cast  \\\n",
       "2772  [{\"cast_id\": 1, \"character\": \"Jimmy Livingston...   \n",
       "4643  [{\"cast_id\": 1, \"character\": \"Ajay Pandya\", \"c...   \n",
       "1124  [{\"cast_id\": 3, \"character\": \"Rocky (Voice)\", ...   \n",
       "4621  [{\"cast_id\": 12, \"character\": \"Ferdinand-Pierr...   \n",
       "\n",
       "                                                   crew  \n",
       "2772  [{\"credit_id\": \"52fe451bc3a36847f80bcc9f\", \"de...  \n",
       "4643  [{\"credit_id\": \"57fd2ab3c3a3681b91000b83\", \"de...  \n",
       "1124  [{\"credit_id\": \"52fe447cc3a36847f80990f1\", \"de...  \n",
       "4621  [{\"credit_id\": \"52fe436dc3a36847f805355b\", \"de...  \n",
       "\n",
       "[4 rows x 23 columns]"
      ]
     },
     "execution_count": 7,
     "metadata": {},
     "output_type": "execute_result"
    }
   ],
   "source": [
    "movies.sample(4)"
   ]
  },
  {
   "cell_type": "code",
   "execution_count": 8,
   "id": "3753cf25",
   "metadata": {
    "execution": {
     "iopub.execute_input": "2023-03-25T11:59:34.109296Z",
     "iopub.status.busy": "2023-03-25T11:59:34.108895Z",
     "iopub.status.idle": "2023-03-25T11:59:34.134214Z",
     "shell.execute_reply": "2023-03-25T11:59:34.132635Z"
    },
    "papermill": {
     "duration": 0.041159,
     "end_time": "2023-03-25T11:59:34.136150",
     "exception": false,
     "start_time": "2023-03-25T11:59:34.094991",
     "status": "completed"
    },
    "tags": []
   },
   "outputs": [
    {
     "name": "stdout",
     "output_type": "stream",
     "text": [
      "<class 'pandas.core.frame.DataFrame'>\n",
      "Int64Index: 4809 entries, 0 to 4808\n",
      "Data columns (total 23 columns):\n",
      " #   Column                Non-Null Count  Dtype  \n",
      "---  ------                --------------  -----  \n",
      " 0   budget                4809 non-null   int64  \n",
      " 1   genres                4809 non-null   object \n",
      " 2   homepage              1713 non-null   object \n",
      " 3   id                    4809 non-null   int64  \n",
      " 4   keywords              4809 non-null   object \n",
      " 5   original_language     4809 non-null   object \n",
      " 6   original_title        4809 non-null   object \n",
      " 7   overview              4806 non-null   object \n",
      " 8   popularity            4809 non-null   float64\n",
      " 9   production_companies  4809 non-null   object \n",
      " 10  production_countries  4809 non-null   object \n",
      " 11  release_date          4808 non-null   object \n",
      " 12  revenue               4809 non-null   int64  \n",
      " 13  runtime               4807 non-null   float64\n",
      " 14  spoken_languages      4809 non-null   object \n",
      " 15  status                4809 non-null   object \n",
      " 16  tagline               3965 non-null   object \n",
      " 17  title                 4809 non-null   object \n",
      " 18  vote_average          4809 non-null   float64\n",
      " 19  vote_count            4809 non-null   int64  \n",
      " 20  movie_id              4809 non-null   int64  \n",
      " 21  cast                  4809 non-null   object \n",
      " 22  crew                  4809 non-null   object \n",
      "dtypes: float64(3), int64(5), object(15)\n",
      "memory usage: 901.7+ KB\n"
     ]
    }
   ],
   "source": [
    "movies.info()"
   ]
  },
  {
   "cell_type": "markdown",
   "id": "554124e6",
   "metadata": {
    "papermill": {
     "duration": 0.012121,
     "end_time": "2023-03-25T11:59:34.160940",
     "exception": false,
     "start_time": "2023-03-25T11:59:34.148819",
     "status": "completed"
    },
    "tags": []
   },
   "source": [
    "## Feature Engineering and Data Preprocessing"
   ]
  },
  {
   "cell_type": "code",
   "execution_count": 9,
   "id": "bd5d0e18",
   "metadata": {
    "execution": {
     "iopub.execute_input": "2023-03-25T11:59:34.187323Z",
     "iopub.status.busy": "2023-03-25T11:59:34.186878Z",
     "iopub.status.idle": "2023-03-25T11:59:34.194270Z",
     "shell.execute_reply": "2023-03-25T11:59:34.193173Z"
    },
    "papermill": {
     "duration": 0.023318,
     "end_time": "2023-03-25T11:59:34.196576",
     "exception": false,
     "start_time": "2023-03-25T11:59:34.173258",
     "status": "completed"
    },
    "tags": []
   },
   "outputs": [],
   "source": [
    "#finding the required column features\n",
    "# genres, keywords, overview, title, movie_id,cast,crew\n",
    "\n",
    "movies=movies[['movie_id','title','overview','genres','keywords','cast','crew']]"
   ]
  },
  {
   "cell_type": "code",
   "execution_count": 10,
   "id": "9469c63a",
   "metadata": {
    "execution": {
     "iopub.execute_input": "2023-03-25T11:59:34.223994Z",
     "iopub.status.busy": "2023-03-25T11:59:34.223605Z",
     "iopub.status.idle": "2023-03-25T11:59:34.235630Z",
     "shell.execute_reply": "2023-03-25T11:59:34.234385Z"
    },
    "papermill": {
     "duration": 0.028029,
     "end_time": "2023-03-25T11:59:34.237868",
     "exception": false,
     "start_time": "2023-03-25T11:59:34.209839",
     "status": "completed"
    },
    "tags": []
   },
   "outputs": [
    {
     "data": {
      "text/plain": [
       "movie_id    0\n",
       "title       0\n",
       "overview    3\n",
       "genres      0\n",
       "keywords    0\n",
       "cast        0\n",
       "crew        0\n",
       "dtype: int64"
      ]
     },
     "execution_count": 10,
     "metadata": {},
     "output_type": "execute_result"
    }
   ],
   "source": [
    "movies.isnull().sum()"
   ]
  },
  {
   "cell_type": "code",
   "execution_count": 11,
   "id": "22529ebf",
   "metadata": {
    "execution": {
     "iopub.execute_input": "2023-03-25T11:59:34.264424Z",
     "iopub.status.busy": "2023-03-25T11:59:34.264094Z",
     "iopub.status.idle": "2023-03-25T11:59:34.275431Z",
     "shell.execute_reply": "2023-03-25T11:59:34.274773Z"
    },
    "papermill": {
     "duration": 0.026651,
     "end_time": "2023-03-25T11:59:34.277123",
     "exception": false,
     "start_time": "2023-03-25T11:59:34.250472",
     "status": "completed"
    },
    "tags": []
   },
   "outputs": [],
   "source": [
    "movies.dropna(inplace=True)"
   ]
  },
  {
   "cell_type": "code",
   "execution_count": 12,
   "id": "058790f1",
   "metadata": {
    "execution": {
     "iopub.execute_input": "2023-03-25T11:59:34.303758Z",
     "iopub.status.busy": "2023-03-25T11:59:34.303370Z",
     "iopub.status.idle": "2023-03-25T11:59:34.315753Z",
     "shell.execute_reply": "2023-03-25T11:59:34.314778Z"
    },
    "papermill": {
     "duration": 0.027746,
     "end_time": "2023-03-25T11:59:34.317503",
     "exception": false,
     "start_time": "2023-03-25T11:59:34.289757",
     "status": "completed"
    },
    "tags": []
   },
   "outputs": [
    {
     "data": {
      "text/plain": [
       "movie_id    0\n",
       "title       0\n",
       "overview    0\n",
       "genres      0\n",
       "keywords    0\n",
       "cast        0\n",
       "crew        0\n",
       "dtype: int64"
      ]
     },
     "execution_count": 12,
     "metadata": {},
     "output_type": "execute_result"
    }
   ],
   "source": [
    "movies.isnull().sum()"
   ]
  },
  {
   "cell_type": "code",
   "execution_count": 13,
   "id": "68a84b72",
   "metadata": {
    "execution": {
     "iopub.execute_input": "2023-03-25T11:59:34.345492Z",
     "iopub.status.busy": "2023-03-25T11:59:34.344465Z",
     "iopub.status.idle": "2023-03-25T11:59:34.435828Z",
     "shell.execute_reply": "2023-03-25T11:59:34.434609Z"
    },
    "papermill": {
     "duration": 0.107731,
     "end_time": "2023-03-25T11:59:34.438177",
     "exception": false,
     "start_time": "2023-03-25T11:59:34.330446",
     "status": "completed"
    },
    "tags": []
   },
   "outputs": [
    {
     "data": {
      "text/plain": [
       "0"
      ]
     },
     "execution_count": 13,
     "metadata": {},
     "output_type": "execute_result"
    }
   ],
   "source": [
    "# checking duplicate data\n",
    "movies.duplicated().sum()"
   ]
  },
  {
   "cell_type": "code",
   "execution_count": 14,
   "id": "533f1275",
   "metadata": {
    "execution": {
     "iopub.execute_input": "2023-03-25T11:59:34.465141Z",
     "iopub.status.busy": "2023-03-25T11:59:34.464814Z",
     "iopub.status.idle": "2023-03-25T11:59:34.472041Z",
     "shell.execute_reply": "2023-03-25T11:59:34.470832Z"
    },
    "papermill": {
     "duration": 0.023046,
     "end_time": "2023-03-25T11:59:34.474020",
     "exception": false,
     "start_time": "2023-03-25T11:59:34.450974",
     "status": "completed"
    },
    "tags": []
   },
   "outputs": [
    {
     "data": {
      "text/plain": [
       "'[{\"id\": 12, \"name\": \"Adventure\"}, {\"id\": 14, \"name\": \"Fantasy\"}, {\"id\": 28, \"name\": \"Action\"}]'"
      ]
     },
     "execution_count": 14,
     "metadata": {},
     "output_type": "execute_result"
    }
   ],
   "source": [
    "movies['genres'].iloc[1]"
   ]
  },
  {
   "cell_type": "markdown",
   "id": "5e3cd225",
   "metadata": {
    "papermill": {
     "duration": 0.013747,
     "end_time": "2023-03-25T11:59:34.500977",
     "exception": false,
     "start_time": "2023-03-25T11:59:34.487230",
     "status": "completed"
    },
    "tags": []
   },
   "source": [
    "We want genres in the format like [Adventure, Fantasy, Action]"
   ]
  },
  {
   "cell_type": "code",
   "execution_count": 15,
   "id": "30bdfa95",
   "metadata": {
    "execution": {
     "iopub.execute_input": "2023-03-25T11:59:34.529008Z",
     "iopub.status.busy": "2023-03-25T11:59:34.528673Z",
     "iopub.status.idle": "2023-03-25T11:59:34.535699Z",
     "shell.execute_reply": "2023-03-25T11:59:34.534113Z"
    },
    "papermill": {
     "duration": 0.02354,
     "end_time": "2023-03-25T11:59:34.537944",
     "exception": false,
     "start_time": "2023-03-25T11:59:34.514404",
     "status": "completed"
    },
    "tags": []
   },
   "outputs": [],
   "source": [
    "def convert(item):\n",
    "    L=[]\n",
    "    for i in ast.literal_eval(item):\n",
    "        L.append(i['name'])\n",
    "    return L\n",
    "\n",
    "# we want item in a list but it is in string \n",
    "# so we use ast.literal_eval to convert it into list"
   ]
  },
  {
   "cell_type": "code",
   "execution_count": 16,
   "id": "058a079b",
   "metadata": {
    "execution": {
     "iopub.execute_input": "2023-03-25T11:59:34.568026Z",
     "iopub.status.busy": "2023-03-25T11:59:34.567652Z",
     "iopub.status.idle": "2023-03-25T11:59:34.573272Z",
     "shell.execute_reply": "2023-03-25T11:59:34.572171Z"
    },
    "papermill": {
     "duration": 0.022785,
     "end_time": "2023-03-25T11:59:34.575420",
     "exception": false,
     "start_time": "2023-03-25T11:59:34.552635",
     "status": "completed"
    },
    "tags": []
   },
   "outputs": [
    {
     "data": {
      "text/plain": [
       "['Adventure', 'Fantasy', 'Action']"
      ]
     },
     "execution_count": 16,
     "metadata": {},
     "output_type": "execute_result"
    }
   ],
   "source": [
    "# Checking the convert function\n",
    "convert('[{\"id\": 12, \"name\": \"Adventure\"}, {\"id\": 14, \"name\": \"Fantasy\"}, {\"id\": 28, \"name\": \"Action\"}]')"
   ]
  },
  {
   "cell_type": "code",
   "execution_count": 17,
   "id": "f6eb759a",
   "metadata": {
    "execution": {
     "iopub.execute_input": "2023-03-25T11:59:34.603204Z",
     "iopub.status.busy": "2023-03-25T11:59:34.602812Z",
     "iopub.status.idle": "2023-03-25T11:59:34.747228Z",
     "shell.execute_reply": "2023-03-25T11:59:34.746335Z"
    },
    "papermill": {
     "duration": 0.160875,
     "end_time": "2023-03-25T11:59:34.749487",
     "exception": false,
     "start_time": "2023-03-25T11:59:34.588612",
     "status": "completed"
    },
    "tags": []
   },
   "outputs": [
    {
     "data": {
      "text/plain": [
       "0       [Action, Adventure, Fantasy, Science Fiction]\n",
       "1                        [Adventure, Fantasy, Action]\n",
       "2                          [Action, Adventure, Crime]\n",
       "3                    [Action, Crime, Drama, Thriller]\n",
       "4                [Action, Adventure, Science Fiction]\n",
       "                            ...                      \n",
       "4804                        [Action, Crime, Thriller]\n",
       "4805                                [Comedy, Romance]\n",
       "4806               [Comedy, Drama, Romance, TV Movie]\n",
       "4807                                               []\n",
       "4808                                    [Documentary]\n",
       "Name: genres, Length: 4806, dtype: object"
      ]
     },
     "execution_count": 17,
     "metadata": {},
     "output_type": "execute_result"
    }
   ],
   "source": [
    "movies['genres'].apply(convert)"
   ]
  },
  {
   "cell_type": "code",
   "execution_count": 18,
   "id": "25af39ad",
   "metadata": {
    "execution": {
     "iopub.execute_input": "2023-03-25T11:59:34.777374Z",
     "iopub.status.busy": "2023-03-25T11:59:34.776961Z",
     "iopub.status.idle": "2023-03-25T11:59:34.919076Z",
     "shell.execute_reply": "2023-03-25T11:59:34.917708Z"
    },
    "papermill": {
     "duration": 0.159183,
     "end_time": "2023-03-25T11:59:34.921793",
     "exception": false,
     "start_time": "2023-03-25T11:59:34.762610",
     "status": "completed"
    },
    "tags": []
   },
   "outputs": [],
   "source": [
    "movies['genres']=movies['genres'].apply(convert)"
   ]
  },
  {
   "cell_type": "code",
   "execution_count": 19,
   "id": "879730cb",
   "metadata": {
    "execution": {
     "iopub.execute_input": "2023-03-25T11:59:34.949794Z",
     "iopub.status.busy": "2023-03-25T11:59:34.949430Z",
     "iopub.status.idle": "2023-03-25T11:59:34.957074Z",
     "shell.execute_reply": "2023-03-25T11:59:34.955976Z"
    },
    "papermill": {
     "duration": 0.024897,
     "end_time": "2023-03-25T11:59:34.959863",
     "exception": false,
     "start_time": "2023-03-25T11:59:34.934966",
     "status": "completed"
    },
    "tags": []
   },
   "outputs": [
    {
     "data": {
      "text/plain": [
       "'[{\"id\": 270, \"name\": \"ocean\"}, {\"id\": 726, \"name\": \"drug abuse\"}, {\"id\": 911, \"name\": \"exotic island\"}, {\"id\": 1319, \"name\": \"east india trading company\"}, {\"id\": 2038, \"name\": \"love of one\\'s life\"}, {\"id\": 2052, \"name\": \"traitor\"}, {\"id\": 2580, \"name\": \"shipwreck\"}, {\"id\": 2660, \"name\": \"strong woman\"}, {\"id\": 3799, \"name\": \"ship\"}, {\"id\": 5740, \"name\": \"alliance\"}, {\"id\": 5941, \"name\": \"calypso\"}, {\"id\": 6155, \"name\": \"afterlife\"}, {\"id\": 6211, \"name\": \"fighter\"}, {\"id\": 12988, \"name\": \"pirate\"}, {\"id\": 157186, \"name\": \"swashbuckler\"}, {\"id\": 179430, \"name\": \"aftercreditsstinger\"}]'"
      ]
     },
     "execution_count": 19,
     "metadata": {},
     "output_type": "execute_result"
    }
   ],
   "source": [
    "movies['keywords'][1]"
   ]
  },
  {
   "cell_type": "markdown",
   "id": "e1cbe0f5",
   "metadata": {
    "papermill": {
     "duration": 0.013037,
     "end_time": "2023-03-25T11:59:34.986675",
     "exception": false,
     "start_time": "2023-03-25T11:59:34.973638",
     "status": "completed"
    },
    "tags": []
   },
   "source": [
    "We only want name of all the keywords"
   ]
  },
  {
   "cell_type": "code",
   "execution_count": 20,
   "id": "c7c3145a",
   "metadata": {
    "execution": {
     "iopub.execute_input": "2023-03-25T11:59:35.015254Z",
     "iopub.status.busy": "2023-03-25T11:59:35.014834Z",
     "iopub.status.idle": "2023-03-25T11:59:35.371190Z",
     "shell.execute_reply": "2023-03-25T11:59:35.370262Z"
    },
    "papermill": {
     "duration": 0.373267,
     "end_time": "2023-03-25T11:59:35.373423",
     "exception": false,
     "start_time": "2023-03-25T11:59:35.000156",
     "status": "completed"
    },
    "tags": []
   },
   "outputs": [
    {
     "data": {
      "text/plain": [
       "0       [culture clash, future, space war, space colon...\n",
       "1       [ocean, drug abuse, exotic island, east india ...\n",
       "2       [spy, based on novel, secret agent, sequel, mi...\n",
       "3       [dc comics, crime fighter, terrorist, secret i...\n",
       "4       [based on novel, mars, medallion, space travel...\n",
       "                              ...                        \n",
       "4804    [united states–mexico barrier, legs, arms, pap...\n",
       "4805                                                   []\n",
       "4806    [date, love at first sight, narration, investi...\n",
       "4807                                                   []\n",
       "4808            [obsession, camcorder, crush, dream girl]\n",
       "Name: keywords, Length: 4806, dtype: object"
      ]
     },
     "execution_count": 20,
     "metadata": {},
     "output_type": "execute_result"
    }
   ],
   "source": [
    "movies['keywords'].apply(convert)"
   ]
  },
  {
   "cell_type": "code",
   "execution_count": 21,
   "id": "ca4226d8",
   "metadata": {
    "execution": {
     "iopub.execute_input": "2023-03-25T11:59:35.401679Z",
     "iopub.status.busy": "2023-03-25T11:59:35.401261Z",
     "iopub.status.idle": "2023-03-25T11:59:35.753514Z",
     "shell.execute_reply": "2023-03-25T11:59:35.752445Z"
    },
    "papermill": {
     "duration": 0.369228,
     "end_time": "2023-03-25T11:59:35.756079",
     "exception": false,
     "start_time": "2023-03-25T11:59:35.386851",
     "status": "completed"
    },
    "tags": []
   },
   "outputs": [],
   "source": [
    "movies['keywords']=movies['keywords'].apply(convert)"
   ]
  },
  {
   "cell_type": "code",
   "execution_count": 22,
   "id": "8cdc8a10",
   "metadata": {
    "execution": {
     "iopub.execute_input": "2023-03-25T11:59:35.784976Z",
     "iopub.status.busy": "2023-03-25T11:59:35.784599Z",
     "iopub.status.idle": "2023-03-25T11:59:35.792323Z",
     "shell.execute_reply": "2023-03-25T11:59:35.791606Z"
    },
    "papermill": {
     "duration": 0.024651,
     "end_time": "2023-03-25T11:59:35.794051",
     "exception": false,
     "start_time": "2023-03-25T11:59:35.769400",
     "status": "completed"
    },
    "tags": []
   },
   "outputs": [
    {
     "data": {
      "text/plain": [
       "'[{\"cast_id\": 4, \"character\": \"Captain Jack Sparrow\", \"credit_id\": \"52fe4232c3a36847f800b50d\", \"gender\": 2, \"id\": 85, \"name\": \"Johnny Depp\", \"order\": 0}, {\"cast_id\": 5, \"character\": \"Will Turner\", \"credit_id\": \"52fe4232c3a36847f800b511\", \"gender\": 2, \"id\": 114, \"name\": \"Orlando Bloom\", \"order\": 1}, {\"cast_id\": 6, \"character\": \"Elizabeth Swann\", \"credit_id\": \"52fe4232c3a36847f800b515\", \"gender\": 1, \"id\": 116, \"name\": \"Keira Knightley\", \"order\": 2}, {\"cast_id\": 12, \"character\": \"William \\\\\"Bootstrap Bill\\\\\" Turner\", \"credit_id\": \"52fe4232c3a36847f800b52d\", \"gender\": 2, \"id\": 1640, \"name\": \"Stellan Skarsg\\\\u00e5rd\", \"order\": 3}, {\"cast_id\": 10, \"character\": \"Captain Sao Feng\", \"credit_id\": \"52fe4232c3a36847f800b525\", \"gender\": 2, \"id\": 1619, \"name\": \"Chow Yun-fat\", \"order\": 4}, {\"cast_id\": 9, \"character\": \"Captain Davy Jones\", \"credit_id\": \"52fe4232c3a36847f800b521\", \"gender\": 2, \"id\": 2440, \"name\": \"Bill Nighy\", \"order\": 5}, {\"cast_id\": 7, \"character\": \"Captain Hector Barbossa\", \"credit_id\": \"52fe4232c3a36847f800b519\", \"gender\": 2, \"id\": 118, \"name\": \"Geoffrey Rush\", \"order\": 6}, {\"cast_id\": 14, \"character\": \"Admiral James Norrington\", \"credit_id\": \"52fe4232c3a36847f800b535\", \"gender\": 2, \"id\": 1709, \"name\": \"Jack Davenport\", \"order\": 7}, {\"cast_id\": 13, \"character\": \"Joshamee Gibbs\", \"credit_id\": \"52fe4232c3a36847f800b531\", \"gender\": 2, \"id\": 2449, \"name\": \"Kevin McNally\", \"order\": 8}, {\"cast_id\": 11, \"character\": \"Lord Cutler Beckett\", \"credit_id\": \"52fe4232c3a36847f800b529\", \"gender\": 2, \"id\": 2441, \"name\": \"Tom Hollander\", \"order\": 9}, {\"cast_id\": 19, \"character\": \"Tia Dalma\", \"credit_id\": \"52fe4232c3a36847f800b549\", \"gender\": 1, \"id\": 2038, \"name\": \"Naomie Harris\", \"order\": 10}, {\"cast_id\": 8, \"character\": \"Governor Weatherby Swann\", \"credit_id\": \"52fe4232c3a36847f800b51d\", \"gender\": 2, \"id\": 378, \"name\": \"Jonathan Pryce\", \"order\": 11}, {\"cast_id\": 37, \"character\": \"Captain Teague Sparrow\", \"credit_id\": \"52fe4232c3a36847f800b5b3\", \"gender\": 2, \"id\": 1430, \"name\": \"Keith Richards\", \"order\": 12}, {\"cast_id\": 16, \"character\": \"Pintel\", \"credit_id\": \"52fe4232c3a36847f800b53d\", \"gender\": 2, \"id\": 1710, \"name\": \"Lee Arenberg\", \"order\": 13}, {\"cast_id\": 15, \"character\": \"Ragetti\", \"credit_id\": \"52fe4232c3a36847f800b539\", \"gender\": 2, \"id\": 1711, \"name\": \"Mackenzie Crook\", \"order\": 14}, {\"cast_id\": 18, \"character\": \"Lieutenant Theodore Groves\", \"credit_id\": \"52fe4232c3a36847f800b545\", \"gender\": 2, \"id\": 4031, \"name\": \"Greg Ellis\", \"order\": 15}, {\"cast_id\": 55, \"character\": \"Cotton\", \"credit_id\": \"57e28d2ec3a3681a01005b5c\", \"gender\": 2, \"id\": 1715, \"name\": \"David Bailie\", \"order\": 16}, {\"cast_id\": 17, \"character\": \"Marty\", \"credit_id\": \"52fe4232c3a36847f800b541\", \"gender\": 2, \"id\": 4030, \"name\": \"Martin Klebba\", \"order\": 17}, {\"cast_id\": 57, \"character\": \"Ian Mercer\", \"credit_id\": \"57e28d78c3a36808b900bf4f\", \"gender\": 0, \"id\": 939, \"name\": \"David Schofield\", \"order\": 18}, {\"cast_id\": 62, \"character\": \"Scarlett\", \"credit_id\": \"57e28ec5c3a3681a50005855\", \"gender\": 1, \"id\": 2450, \"name\": \"Lauren Maher\", \"order\": 19}, {\"cast_id\": 63, \"character\": \"Giselle\", \"credit_id\": \"57e28ed692514123f5005635\", \"gender\": 1, \"id\": 2452, \"name\": \"Vanessa Branch\", \"order\": 20}, {\"cast_id\": 60, \"character\": \"Mullroy\", \"credit_id\": \"57e28db2c3a3681a01005bc7\", \"gender\": 2, \"id\": 1714, \"name\": \"Angus Barnett\", \"order\": 21}, {\"cast_id\": 59, \"character\": \"Murtogg\", \"credit_id\": \"57e28da192514118f7006008\", \"gender\": 0, \"id\": 1713, \"name\": \"Giles New\", \"order\": 22}, {\"cast_id\": 58, \"character\": \"Tai Huang\", \"credit_id\": \"57e28d8ec3a3681a01005bab\", \"gender\": 2, \"id\": 22075, \"name\": \"Reggie Lee\", \"order\": 23}, {\"cast_id\": 64, \"character\": \"Henry Turner\", \"credit_id\": \"57e29119925141151100a6cc\", \"gender\": 2, \"id\": 61259, \"name\": \"Dominic Scott Kay\", \"order\": 24}, {\"cast_id\": 39, \"character\": \"Mistress Ching\", \"credit_id\": \"52fe4232c3a36847f800b5bd\", \"gender\": 1, \"id\": 33500, \"name\": \"Takayo Fischer\", \"order\": 25}, {\"cast_id\": 40, \"character\": \"Lieutenant Greitzer\", \"credit_id\": \"52fe4232c3a36847f800b5c1\", \"gender\": 2, \"id\": 1224149, \"name\": \"David Meunier\", \"order\": 26}, {\"cast_id\": 49, \"character\": \"Hadras\", \"credit_id\": \"56d1871c92514174680010cf\", \"gender\": 2, \"id\": 429401, \"name\": \"Ho-Kwan Tse\", \"order\": 27}, {\"cast_id\": 56, \"character\": \"Clacker\", \"credit_id\": \"57e28d4b92514125710055cb\", \"gender\": 0, \"id\": 1123, \"name\": \"Andy Beckwith\", \"order\": 28}, {\"cast_id\": 51, \"character\": \"Penrod\", \"credit_id\": \"56ec8c14c3a3682260003c53\", \"gender\": 2, \"id\": 1056117, \"name\": \"Peter Donald Badalamenti II\", \"order\": 29}, {\"cast_id\": 61, \"character\": \"Cotton\\'s Parrot (voice)\", \"credit_id\": \"57e28dcc9251412463005678\", \"gender\": 2, \"id\": 21700, \"name\": \"Christopher S. Capp\", \"order\": 30}, {\"cast_id\": 65, \"character\": \"Captain Teague\", \"credit_id\": \"58bc2a37c3a368663003740b\", \"gender\": 2, \"id\": 1430, \"name\": \"Keith Richards\", \"order\": 31}, {\"cast_id\": 66, \"character\": \"Captain Jocard\", \"credit_id\": \"58bc2a8e925141609e03a179\", \"gender\": 2, \"id\": 2603, \"name\": \"Hakeem Kae-Kazim\", \"order\": 32}, {\"cast_id\": 67, \"character\": \"Captain Ammand\", \"credit_id\": \"58e2a21ac3a36872af00f9c2\", \"gender\": 0, \"id\": 70577, \"name\": \"Ghassan Massoud\", \"order\": 33}]'"
      ]
     },
     "execution_count": 22,
     "metadata": {},
     "output_type": "execute_result"
    }
   ],
   "source": [
    "movies['cast'][1]"
   ]
  },
  {
   "cell_type": "markdown",
   "id": "49087417",
   "metadata": {
    "papermill": {
     "duration": 0.013124,
     "end_time": "2023-03-25T11:59:35.820714",
     "exception": false,
     "start_time": "2023-03-25T11:59:35.807590",
     "status": "completed"
    },
    "tags": []
   },
   "source": [
    "We have to take first three main cast name"
   ]
  },
  {
   "cell_type": "code",
   "execution_count": 23,
   "id": "f5ac9145",
   "metadata": {
    "execution": {
     "iopub.execute_input": "2023-03-25T11:59:35.850066Z",
     "iopub.status.busy": "2023-03-25T11:59:35.848811Z",
     "iopub.status.idle": "2023-03-25T11:59:35.854472Z",
     "shell.execute_reply": "2023-03-25T11:59:35.853566Z"
    },
    "papermill": {
     "duration": 0.022164,
     "end_time": "2023-03-25T11:59:35.856263",
     "exception": false,
     "start_time": "2023-03-25T11:59:35.834099",
     "status": "completed"
    },
    "tags": []
   },
   "outputs": [],
   "source": [
    "# for finding top 3 actors name from cast column\n",
    "def cast_name(obj):\n",
    "    count=0\n",
    "    L=[]\n",
    "    for i in ast.literal_eval(obj):\n",
    "        if count!=3:\n",
    "            L.append(i['name'])\n",
    "            count+=1\n",
    "        else:\n",
    "            break\n",
    "    return L"
   ]
  },
  {
   "cell_type": "code",
   "execution_count": 24,
   "id": "8a5a88aa",
   "metadata": {
    "execution": {
     "iopub.execute_input": "2023-03-25T11:59:35.884914Z",
     "iopub.status.busy": "2023-03-25T11:59:35.884482Z",
     "iopub.status.idle": "2023-03-25T11:59:38.735623Z",
     "shell.execute_reply": "2023-03-25T11:59:38.734078Z"
    },
    "papermill": {
     "duration": 2.868432,
     "end_time": "2023-03-25T11:59:38.738162",
     "exception": false,
     "start_time": "2023-03-25T11:59:35.869730",
     "status": "completed"
    },
    "tags": []
   },
   "outputs": [],
   "source": [
    "movies['cast']=movies['cast'].apply(cast_name)"
   ]
  },
  {
   "cell_type": "code",
   "execution_count": 25,
   "id": "478512ee",
   "metadata": {
    "execution": {
     "iopub.execute_input": "2023-03-25T11:59:38.766973Z",
     "iopub.status.busy": "2023-03-25T11:59:38.766607Z",
     "iopub.status.idle": "2023-03-25T11:59:38.772903Z",
     "shell.execute_reply": "2023-03-25T11:59:38.771628Z"
    },
    "papermill": {
     "duration": 0.02284,
     "end_time": "2023-03-25T11:59:38.774807",
     "exception": false,
     "start_time": "2023-03-25T11:59:38.751967",
     "status": "completed"
    },
    "tags": []
   },
   "outputs": [
    {
     "data": {
      "text/plain": [
       "'[{\"credit_id\": \"52fe4232c3a36847f800b579\", \"department\": \"Camera\", \"gender\": 2, \"id\": 120, \"job\": \"Director of Photography\", \"name\": \"Dariusz Wolski\"}, {\"credit_id\": \"52fe4232c3a36847f800b4fd\", \"department\": \"Directing\", \"gender\": 2, \"id\": 1704, \"job\": \"Director\", \"name\": \"Gore Verbinski\"}, {\"credit_id\": \"52fe4232c3a36847f800b54f\", \"department\": \"Production\", \"gender\": 2, \"id\": 770, \"job\": \"Producer\", \"name\": \"Jerry Bruckheimer\"}, {\"credit_id\": \"52fe4232c3a36847f800b503\", \"department\": \"Writing\", \"gender\": 2, \"id\": 1705, \"job\": \"Screenplay\", \"name\": \"Ted Elliott\"}, {\"credit_id\": \"52fe4232c3a36847f800b509\", \"department\": \"Writing\", \"gender\": 2, \"id\": 1706, \"job\": \"Screenplay\", \"name\": \"Terry Rossio\"}, {\"credit_id\": \"52fe4232c3a36847f800b57f\", \"department\": \"Editing\", \"gender\": 0, \"id\": 1721, \"job\": \"Editor\", \"name\": \"Stephen E. Rivkin\"}, {\"credit_id\": \"52fe4232c3a36847f800b585\", \"department\": \"Editing\", \"gender\": 2, \"id\": 1722, \"job\": \"Editor\", \"name\": \"Craig Wood\"}, {\"credit_id\": \"52fe4232c3a36847f800b573\", \"department\": \"Sound\", \"gender\": 2, \"id\": 947, \"job\": \"Original Music Composer\", \"name\": \"Hans Zimmer\"}, {\"credit_id\": \"52fe4232c3a36847f800b555\", \"department\": \"Production\", \"gender\": 2, \"id\": 2444, \"job\": \"Executive Producer\", \"name\": \"Mike Stenson\"}, {\"credit_id\": \"52fe4232c3a36847f800b561\", \"department\": \"Production\", \"gender\": 2, \"id\": 2445, \"job\": \"Producer\", \"name\": \"Eric McLeod\"}, {\"credit_id\": \"52fe4232c3a36847f800b55b\", \"department\": \"Production\", \"gender\": 2, \"id\": 2446, \"job\": \"Producer\", \"name\": \"Chad Oman\"}, {\"credit_id\": \"52fe4232c3a36847f800b567\", \"department\": \"Production\", \"gender\": 0, \"id\": 2447, \"job\": \"Producer\", \"name\": \"Peter Kohn\"}, {\"credit_id\": \"52fe4232c3a36847f800b56d\", \"department\": \"Production\", \"gender\": 0, \"id\": 2448, \"job\": \"Producer\", \"name\": \"Pat Sandston\"}, {\"credit_id\": \"52fe4232c3a36847f800b58b\", \"department\": \"Production\", \"gender\": 1, \"id\": 2215, \"job\": \"Casting\", \"name\": \"Denise Chamian\"}, {\"credit_id\": \"52fe4232c3a36847f800b597\", \"department\": \"Art\", \"gender\": 2, \"id\": 1226, \"job\": \"Production Design\", \"name\": \"Rick Heinrichs\"}, {\"credit_id\": \"52fe4232c3a36847f800b59d\", \"department\": \"Art\", \"gender\": 2, \"id\": 553, \"job\": \"Art Direction\", \"name\": \"John Dexter\"}, {\"credit_id\": \"52fe4232c3a36847f800b591\", \"department\": \"Production\", \"gender\": 1, \"id\": 3311, \"job\": \"Casting\", \"name\": \"Priscilla John\"}, {\"credit_id\": \"52fe4232c3a36847f800b5a3\", \"department\": \"Art\", \"gender\": 1, \"id\": 4032, \"job\": \"Set Decoration\", \"name\": \"Cheryl Carasik\"}, {\"credit_id\": \"52fe4232c3a36847f800b5a9\", \"department\": \"Costume & Make-Up\", \"gender\": 0, \"id\": 4033, \"job\": \"Costume Design\", \"name\": \"Liz Dann\"}, {\"credit_id\": \"52fe4232c3a36847f800b5af\", \"department\": \"Costume & Make-Up\", \"gender\": 1, \"id\": 4034, \"job\": \"Costume Design\", \"name\": \"Penny Rose\"}, {\"credit_id\": \"56427ce8c3a3686a53000d8b\", \"department\": \"Sound\", \"gender\": 2, \"id\": 5132, \"job\": \"Music Supervisor\", \"name\": \"Bob Badami\"}, {\"credit_id\": \"55993c15c3a36855db002f33\", \"department\": \"Art\", \"gender\": 2, \"id\": 146439, \"job\": \"Conceptual Design\", \"name\": \"James Ward Byrkit\"}, {\"credit_id\": \"52fe4232c3a36847f800b5b9\", \"department\": \"Costume & Make-Up\", \"gender\": 1, \"id\": 406204, \"job\": \"Makeup Department Head\", \"name\": \"Ve Neill\"}, {\"credit_id\": \"56e47f7892514132690017bd\", \"department\": \"Crew\", \"gender\": 2, \"id\": 1259516, \"job\": \"Stunts\", \"name\": \"John Dixon\"}, {\"credit_id\": \"5740be639251416597000849\", \"department\": \"Crew\", \"gender\": 0, \"id\": 1336716, \"job\": \"CGI Supervisor\", \"name\": \"Dottie Starling\"}, {\"credit_id\": \"56427c639251412fc8000dc1\", \"department\": \"Directing\", \"gender\": 1, \"id\": 1344278, \"job\": \"Script Supervisor\", \"name\": \"Pamela Alch\"}, {\"credit_id\": \"57083101c3a3681d320004e6\", \"department\": \"Crew\", \"gender\": 0, \"id\": 1368867, \"job\": \"Special Effects Coordinator\", \"name\": \"Allen Hall\"}, {\"credit_id\": \"56427d5ec3a3686a62000d4a\", \"department\": \"Sound\", \"gender\": 0, \"id\": 1368884, \"job\": \"Music Editor\", \"name\": \"Melissa Muik\"}, {\"credit_id\": \"56427c7b9251412fd4000e07\", \"department\": \"Directing\", \"gender\": 1, \"id\": 1395290, \"job\": \"Script Supervisor\", \"name\": \"Sharron Reynolds\"}, {\"credit_id\": \"56427d2bc3a3686a53000d9b\", \"department\": \"Sound\", \"gender\": 0, \"id\": 1399327, \"job\": \"Music Editor\", \"name\": \"Barbara McDermott\"}, {\"credit_id\": \"56427cb4c3a3686a53000d87\", \"department\": \"Directing\", \"gender\": 1, \"id\": 1400738, \"job\": \"Script Supervisor\", \"name\": \"Karen Golden\"}, {\"credit_id\": \"56427d169251412fd4000e23\", \"department\": \"Sound\", \"gender\": 0, \"id\": 1534197, \"job\": \"Music Editor\", \"name\": \"Katie Greathouse\"}]'"
      ]
     },
     "execution_count": 25,
     "metadata": {},
     "output_type": "execute_result"
    }
   ],
   "source": [
    "movies['crew'][1]"
   ]
  },
  {
   "cell_type": "markdown",
   "id": "8b25deb9",
   "metadata": {
    "papermill": {
     "duration": 0.013379,
     "end_time": "2023-03-25T11:59:38.801501",
     "exception": false,
     "start_time": "2023-03-25T11:59:38.788122",
     "status": "completed"
    },
    "tags": []
   },
   "source": [
    "We want only director from crew column"
   ]
  },
  {
   "cell_type": "code",
   "execution_count": 26,
   "id": "2e1f0c16",
   "metadata": {
    "execution": {
     "iopub.execute_input": "2023-03-25T11:59:38.829991Z",
     "iopub.status.busy": "2023-03-25T11:59:38.829329Z",
     "iopub.status.idle": "2023-03-25T11:59:38.833992Z",
     "shell.execute_reply": "2023-03-25T11:59:38.833100Z"
    },
    "papermill": {
     "duration": 0.020999,
     "end_time": "2023-03-25T11:59:38.835711",
     "exception": false,
     "start_time": "2023-03-25T11:59:38.814712",
     "status": "completed"
    },
    "tags": []
   },
   "outputs": [],
   "source": [
    "def crew_dir(item):\n",
    "    L=[]\n",
    "    for i in ast.literal_eval(item):\n",
    "        if i['job']=='Director':\n",
    "            L.append(i['name'])\n",
    "    return L"
   ]
  },
  {
   "cell_type": "code",
   "execution_count": 27,
   "id": "e4bef55a",
   "metadata": {
    "execution": {
     "iopub.execute_input": "2023-03-25T11:59:38.865793Z",
     "iopub.status.busy": "2023-03-25T11:59:38.865181Z",
     "iopub.status.idle": "2023-03-25T11:59:38.873349Z",
     "shell.execute_reply": "2023-03-25T11:59:38.872170Z"
    },
    "papermill": {
     "duration": 0.024866,
     "end_time": "2023-03-25T11:59:38.875083",
     "exception": false,
     "start_time": "2023-03-25T11:59:38.850217",
     "status": "completed"
    },
    "tags": []
   },
   "outputs": [
    {
     "data": {
      "text/plain": [
       "['Gore Verbinski']"
      ]
     },
     "execution_count": 27,
     "metadata": {},
     "output_type": "execute_result"
    }
   ],
   "source": [
    "crew_dir(movies['crew'][1])"
   ]
  },
  {
   "cell_type": "code",
   "execution_count": 28,
   "id": "3ce34571",
   "metadata": {
    "execution": {
     "iopub.execute_input": "2023-03-25T11:59:38.903439Z",
     "iopub.status.busy": "2023-03-25T11:59:38.903080Z",
     "iopub.status.idle": "2023-03-25T11:59:42.099578Z",
     "shell.execute_reply": "2023-03-25T11:59:42.098622Z"
    },
    "papermill": {
     "duration": 3.213369,
     "end_time": "2023-03-25T11:59:42.101985",
     "exception": false,
     "start_time": "2023-03-25T11:59:38.888616",
     "status": "completed"
    },
    "tags": []
   },
   "outputs": [],
   "source": [
    "movies['crew']=movies['crew'].apply(crew_dir)"
   ]
  },
  {
   "cell_type": "code",
   "execution_count": 29,
   "id": "fea34475",
   "metadata": {
    "execution": {
     "iopub.execute_input": "2023-03-25T11:59:42.131233Z",
     "iopub.status.busy": "2023-03-25T11:59:42.130867Z",
     "iopub.status.idle": "2023-03-25T11:59:42.145038Z",
     "shell.execute_reply": "2023-03-25T11:59:42.144351Z"
    },
    "papermill": {
     "duration": 0.030752,
     "end_time": "2023-03-25T11:59:42.146686",
     "exception": false,
     "start_time": "2023-03-25T11:59:42.115934",
     "status": "completed"
    },
    "tags": []
   },
   "outputs": [
    {
     "data": {
      "text/html": [
       "<div>\n",
       "<style scoped>\n",
       "    .dataframe tbody tr th:only-of-type {\n",
       "        vertical-align: middle;\n",
       "    }\n",
       "\n",
       "    .dataframe tbody tr th {\n",
       "        vertical-align: top;\n",
       "    }\n",
       "\n",
       "    .dataframe thead th {\n",
       "        text-align: right;\n",
       "    }\n",
       "</style>\n",
       "<table border=\"1\" class=\"dataframe\">\n",
       "  <thead>\n",
       "    <tr style=\"text-align: right;\">\n",
       "      <th></th>\n",
       "      <th>movie_id</th>\n",
       "      <th>title</th>\n",
       "      <th>overview</th>\n",
       "      <th>genres</th>\n",
       "      <th>keywords</th>\n",
       "      <th>cast</th>\n",
       "      <th>crew</th>\n",
       "    </tr>\n",
       "  </thead>\n",
       "  <tbody>\n",
       "    <tr>\n",
       "      <th>1251</th>\n",
       "      <td>15556</td>\n",
       "      <td>At First Sight</td>\n",
       "      <td>A blind man has an operation to regain his sig...</td>\n",
       "      <td>[Drama, Romance]</td>\n",
       "      <td>[blind, massage therapist]</td>\n",
       "      <td>[Val Kilmer, Mira Sorvino, Kelly McGillis]</td>\n",
       "      <td>[Irwin Winkler]</td>\n",
       "    </tr>\n",
       "    <tr>\n",
       "      <th>4584</th>\n",
       "      <td>1282</td>\n",
       "      <td>Dogtown and Z-Boys</td>\n",
       "      <td>Dogtown and Z-Boys follows the evolution of sk...</td>\n",
       "      <td>[Documentary]</td>\n",
       "      <td>[skateboarding, independent film]</td>\n",
       "      <td>[Sean Penn, Jay Adams, Henry Rollins]</td>\n",
       "      <td>[Stacy Peralta]</td>\n",
       "    </tr>\n",
       "    <tr>\n",
       "      <th>1620</th>\n",
       "      <td>12763</td>\n",
       "      <td>Take the Lead</td>\n",
       "      <td>A former professional dancer volunteers to tea...</td>\n",
       "      <td>[Music]</td>\n",
       "      <td>[dancing master, dance, musical, woman director]</td>\n",
       "      <td>[Antonio Banderas, Rob Brown, Yaya DaCosta]</td>\n",
       "      <td>[Liz Friedlander]</td>\n",
       "    </tr>\n",
       "  </tbody>\n",
       "</table>\n",
       "</div>"
      ],
      "text/plain": [
       "      movie_id               title  \\\n",
       "1251     15556      At First Sight   \n",
       "4584      1282  Dogtown and Z-Boys   \n",
       "1620     12763       Take the Lead   \n",
       "\n",
       "                                               overview            genres  \\\n",
       "1251  A blind man has an operation to regain his sig...  [Drama, Romance]   \n",
       "4584  Dogtown and Z-Boys follows the evolution of sk...     [Documentary]   \n",
       "1620  A former professional dancer volunteers to tea...           [Music]   \n",
       "\n",
       "                                              keywords  \\\n",
       "1251                        [blind, massage therapist]   \n",
       "4584                 [skateboarding, independent film]   \n",
       "1620  [dancing master, dance, musical, woman director]   \n",
       "\n",
       "                                             cast               crew  \n",
       "1251   [Val Kilmer, Mira Sorvino, Kelly McGillis]    [Irwin Winkler]  \n",
       "4584        [Sean Penn, Jay Adams, Henry Rollins]    [Stacy Peralta]  \n",
       "1620  [Antonio Banderas, Rob Brown, Yaya DaCosta]  [Liz Friedlander]  "
      ]
     },
     "execution_count": 29,
     "metadata": {},
     "output_type": "execute_result"
    }
   ],
   "source": [
    "movies.sample(3)"
   ]
  },
  {
   "cell_type": "code",
   "execution_count": 30,
   "id": "077dd373",
   "metadata": {
    "execution": {
     "iopub.execute_input": "2023-03-25T11:59:42.176101Z",
     "iopub.status.busy": "2023-03-25T11:59:42.175716Z",
     "iopub.status.idle": "2023-03-25T11:59:42.202139Z",
     "shell.execute_reply": "2023-03-25T11:59:42.200634Z"
    },
    "papermill": {
     "duration": 0.043932,
     "end_time": "2023-03-25T11:59:42.204513",
     "exception": false,
     "start_time": "2023-03-25T11:59:42.160581",
     "status": "completed"
    },
    "tags": []
   },
   "outputs": [],
   "source": [
    "# converting the overviev to list for adding all the column together\n",
    "# as all other columns is also in list then it is easy to add then\n",
    "movies['overview']=movies['overview'].apply(lambda x: x.split())"
   ]
  },
  {
   "cell_type": "code",
   "execution_count": 31,
   "id": "ab6e7f57",
   "metadata": {
    "execution": {
     "iopub.execute_input": "2023-03-25T11:59:42.235256Z",
     "iopub.status.busy": "2023-03-25T11:59:42.234857Z",
     "iopub.status.idle": "2023-03-25T11:59:42.279574Z",
     "shell.execute_reply": "2023-03-25T11:59:42.278506Z"
    },
    "papermill": {
     "duration": 0.062659,
     "end_time": "2023-03-25T11:59:42.281950",
     "exception": false,
     "start_time": "2023-03-25T11:59:42.219291",
     "status": "completed"
    },
    "tags": []
   },
   "outputs": [],
   "source": [
    "# removing the white spaces from the all the columns for avoiding the confusion\n",
    "movies['genres']=movies['genres'].apply(lambda x:[i.replace(' ','') for i in x])\n",
    "movies['keywords']=movies['keywords'].apply(lambda x:[i.replace(' ','') for i in x])\n",
    "movies['cast']=movies['cast'].apply(lambda x:[i.replace(' ','') for i in x])\n",
    "movies['crew']=movies['crew'].apply(lambda x:[i.replace(' ','') for i in x])"
   ]
  },
  {
   "cell_type": "code",
   "execution_count": 32,
   "id": "cd716df0",
   "metadata": {
    "execution": {
     "iopub.execute_input": "2023-03-25T11:59:42.310734Z",
     "iopub.status.busy": "2023-03-25T11:59:42.310332Z",
     "iopub.status.idle": "2023-03-25T11:59:42.326103Z",
     "shell.execute_reply": "2023-03-25T11:59:42.324956Z"
    },
    "papermill": {
     "duration": 0.032707,
     "end_time": "2023-03-25T11:59:42.328416",
     "exception": false,
     "start_time": "2023-03-25T11:59:42.295709",
     "status": "completed"
    },
    "tags": []
   },
   "outputs": [
    {
     "data": {
      "text/html": [
       "<div>\n",
       "<style scoped>\n",
       "    .dataframe tbody tr th:only-of-type {\n",
       "        vertical-align: middle;\n",
       "    }\n",
       "\n",
       "    .dataframe tbody tr th {\n",
       "        vertical-align: top;\n",
       "    }\n",
       "\n",
       "    .dataframe thead th {\n",
       "        text-align: right;\n",
       "    }\n",
       "</style>\n",
       "<table border=\"1\" class=\"dataframe\">\n",
       "  <thead>\n",
       "    <tr style=\"text-align: right;\">\n",
       "      <th></th>\n",
       "      <th>movie_id</th>\n",
       "      <th>title</th>\n",
       "      <th>overview</th>\n",
       "      <th>genres</th>\n",
       "      <th>keywords</th>\n",
       "      <th>cast</th>\n",
       "      <th>crew</th>\n",
       "    </tr>\n",
       "  </thead>\n",
       "  <tbody>\n",
       "    <tr>\n",
       "      <th>2814</th>\n",
       "      <td>9552</td>\n",
       "      <td>The Exorcist</td>\n",
       "      <td>[12-year-old, Regan, MacNeil, begins, to, adap...</td>\n",
       "      <td>[Drama, Horror, Thriller]</td>\n",
       "      <td>[exorcism, holywater, religionandsupernatural,...</td>\n",
       "      <td>[LindaBlair, MaxvonSydow, EllenBurstyn]</td>\n",
       "      <td>[WilliamFriedkin]</td>\n",
       "    </tr>\n",
       "    <tr>\n",
       "      <th>3756</th>\n",
       "      <td>8337</td>\n",
       "      <td>They Live</td>\n",
       "      <td>[Nada,, a, down-on-his-luck, construction, wor...</td>\n",
       "      <td>[Action, Horror, ScienceFiction, Thriller]</td>\n",
       "      <td>[dystopia, socialcommentary, alieninvasion, su...</td>\n",
       "      <td>[RoddyPiper, KeithDavid, MegFoster]</td>\n",
       "      <td>[JohnCarpenter]</td>\n",
       "    </tr>\n",
       "  </tbody>\n",
       "</table>\n",
       "</div>"
      ],
      "text/plain": [
       "      movie_id         title  \\\n",
       "2814      9552  The Exorcist   \n",
       "3756      8337     They Live   \n",
       "\n",
       "                                               overview  \\\n",
       "2814  [12-year-old, Regan, MacNeil, begins, to, adap...   \n",
       "3756  [Nada,, a, down-on-his-luck, construction, wor...   \n",
       "\n",
       "                                          genres  \\\n",
       "2814                   [Drama, Horror, Thriller]   \n",
       "3756  [Action, Horror, ScienceFiction, Thriller]   \n",
       "\n",
       "                                               keywords  \\\n",
       "2814  [exorcism, holywater, religionandsupernatural,...   \n",
       "3756  [dystopia, socialcommentary, alieninvasion, su...   \n",
       "\n",
       "                                         cast               crew  \n",
       "2814  [LindaBlair, MaxvonSydow, EllenBurstyn]  [WilliamFriedkin]  \n",
       "3756      [RoddyPiper, KeithDavid, MegFoster]    [JohnCarpenter]  "
      ]
     },
     "execution_count": 32,
     "metadata": {},
     "output_type": "execute_result"
    }
   ],
   "source": [
    "movies.sample(2)"
   ]
  },
  {
   "cell_type": "code",
   "execution_count": 33,
   "id": "524839e3",
   "metadata": {
    "execution": {
     "iopub.execute_input": "2023-03-25T11:59:42.357967Z",
     "iopub.status.busy": "2023-03-25T11:59:42.357583Z",
     "iopub.status.idle": "2023-03-25T11:59:42.413743Z",
     "shell.execute_reply": "2023-03-25T11:59:42.412699Z"
    },
    "papermill": {
     "duration": 0.073614,
     "end_time": "2023-03-25T11:59:42.415981",
     "exception": false,
     "start_time": "2023-03-25T11:59:42.342367",
     "status": "completed"
    },
    "tags": []
   },
   "outputs": [],
   "source": [
    "movies['tags']=movies['overview']+movies['genres']+movies['keywords']+movies['cast']+movies['crew']"
   ]
  },
  {
   "cell_type": "code",
   "execution_count": 34,
   "id": "4aee38fd",
   "metadata": {
    "execution": {
     "iopub.execute_input": "2023-03-25T11:59:42.446799Z",
     "iopub.status.busy": "2023-03-25T11:59:42.446162Z",
     "iopub.status.idle": "2023-03-25T11:59:42.464684Z",
     "shell.execute_reply": "2023-03-25T11:59:42.463755Z"
    },
    "papermill": {
     "duration": 0.035875,
     "end_time": "2023-03-25T11:59:42.466498",
     "exception": false,
     "start_time": "2023-03-25T11:59:42.430623",
     "status": "completed"
    },
    "tags": []
   },
   "outputs": [
    {
     "data": {
      "text/html": [
       "<div>\n",
       "<style scoped>\n",
       "    .dataframe tbody tr th:only-of-type {\n",
       "        vertical-align: middle;\n",
       "    }\n",
       "\n",
       "    .dataframe tbody tr th {\n",
       "        vertical-align: top;\n",
       "    }\n",
       "\n",
       "    .dataframe thead th {\n",
       "        text-align: right;\n",
       "    }\n",
       "</style>\n",
       "<table border=\"1\" class=\"dataframe\">\n",
       "  <thead>\n",
       "    <tr style=\"text-align: right;\">\n",
       "      <th></th>\n",
       "      <th>movie_id</th>\n",
       "      <th>title</th>\n",
       "      <th>overview</th>\n",
       "      <th>genres</th>\n",
       "      <th>keywords</th>\n",
       "      <th>cast</th>\n",
       "      <th>crew</th>\n",
       "      <th>tags</th>\n",
       "    </tr>\n",
       "  </thead>\n",
       "  <tbody>\n",
       "    <tr>\n",
       "      <th>4532</th>\n",
       "      <td>36825</td>\n",
       "      <td>The R.M.</td>\n",
       "      <td>[Jared, Phelps, (Kirby, Heyborne), has, comple...</td>\n",
       "      <td>[Comedy, Crime, Family]</td>\n",
       "      <td>[]</td>\n",
       "      <td>[KirbyHeyborne]</td>\n",
       "      <td>[KurtHale]</td>\n",
       "      <td>[Jared, Phelps, (Kirby, Heyborne), has, comple...</td>\n",
       "    </tr>\n",
       "    <tr>\n",
       "      <th>323</th>\n",
       "      <td>37786</td>\n",
       "      <td>Sex and the City 2</td>\n",
       "      <td>[Carrie,, Charlotte,, and, Miranda, are, all, ...</td>\n",
       "      <td>[Comedy, Drama, Romance]</td>\n",
       "      <td>[]</td>\n",
       "      <td>[SarahJessicaParker, KristinDavis, CynthiaNixon]</td>\n",
       "      <td>[MichaelPatrickKing]</td>\n",
       "      <td>[Carrie,, Charlotte,, and, Miranda, are, all, ...</td>\n",
       "    </tr>\n",
       "  </tbody>\n",
       "</table>\n",
       "</div>"
      ],
      "text/plain": [
       "      movie_id               title  \\\n",
       "4532     36825            The R.M.   \n",
       "323      37786  Sex and the City 2   \n",
       "\n",
       "                                               overview  \\\n",
       "4532  [Jared, Phelps, (Kirby, Heyborne), has, comple...   \n",
       "323   [Carrie,, Charlotte,, and, Miranda, are, all, ...   \n",
       "\n",
       "                        genres keywords  \\\n",
       "4532   [Comedy, Crime, Family]       []   \n",
       "323   [Comedy, Drama, Romance]       []   \n",
       "\n",
       "                                                  cast                  crew  \\\n",
       "4532                                   [KirbyHeyborne]            [KurtHale]   \n",
       "323   [SarahJessicaParker, KristinDavis, CynthiaNixon]  [MichaelPatrickKing]   \n",
       "\n",
       "                                                   tags  \n",
       "4532  [Jared, Phelps, (Kirby, Heyborne), has, comple...  \n",
       "323   [Carrie,, Charlotte,, and, Miranda, are, all, ...  "
      ]
     },
     "execution_count": 34,
     "metadata": {},
     "output_type": "execute_result"
    }
   ],
   "source": [
    "movies.sample(2)"
   ]
  },
  {
   "cell_type": "code",
   "execution_count": 35,
   "id": "c5c91843",
   "metadata": {
    "execution": {
     "iopub.execute_input": "2023-03-25T11:59:42.497508Z",
     "iopub.status.busy": "2023-03-25T11:59:42.496958Z",
     "iopub.status.idle": "2023-03-25T11:59:42.502101Z",
     "shell.execute_reply": "2023-03-25T11:59:42.501464Z"
    },
    "papermill": {
     "duration": 0.02339,
     "end_time": "2023-03-25T11:59:42.503877",
     "exception": false,
     "start_time": "2023-03-25T11:59:42.480487",
     "status": "completed"
    },
    "tags": []
   },
   "outputs": [],
   "source": [
    "df=movies[['movie_id','title','tags']]"
   ]
  },
  {
   "cell_type": "code",
   "execution_count": 36,
   "id": "2cf258a2",
   "metadata": {
    "execution": {
     "iopub.execute_input": "2023-03-25T11:59:42.535156Z",
     "iopub.status.busy": "2023-03-25T11:59:42.534619Z",
     "iopub.status.idle": "2023-03-25T11:59:42.552391Z",
     "shell.execute_reply": "2023-03-25T11:59:42.551529Z"
    },
    "papermill": {
     "duration": 0.035959,
     "end_time": "2023-03-25T11:59:42.554255",
     "exception": false,
     "start_time": "2023-03-25T11:59:42.518296",
     "status": "completed"
    },
    "tags": []
   },
   "outputs": [
    {
     "data": {
      "text/html": [
       "<div>\n",
       "<style scoped>\n",
       "    .dataframe tbody tr th:only-of-type {\n",
       "        vertical-align: middle;\n",
       "    }\n",
       "\n",
       "    .dataframe tbody tr th {\n",
       "        vertical-align: top;\n",
       "    }\n",
       "\n",
       "    .dataframe thead th {\n",
       "        text-align: right;\n",
       "    }\n",
       "</style>\n",
       "<table border=\"1\" class=\"dataframe\">\n",
       "  <thead>\n",
       "    <tr style=\"text-align: right;\">\n",
       "      <th></th>\n",
       "      <th>movie_id</th>\n",
       "      <th>title</th>\n",
       "      <th>tags</th>\n",
       "    </tr>\n",
       "  </thead>\n",
       "  <tbody>\n",
       "    <tr>\n",
       "      <th>0</th>\n",
       "      <td>19995</td>\n",
       "      <td>Avatar</td>\n",
       "      <td>[In, the, 22nd, century,, a, paraplegic, Marin...</td>\n",
       "    </tr>\n",
       "    <tr>\n",
       "      <th>1</th>\n",
       "      <td>285</td>\n",
       "      <td>Pirates of the Caribbean: At World's End</td>\n",
       "      <td>[Captain, Barbossa,, long, believed, to, be, d...</td>\n",
       "    </tr>\n",
       "    <tr>\n",
       "      <th>2</th>\n",
       "      <td>206647</td>\n",
       "      <td>Spectre</td>\n",
       "      <td>[A, cryptic, message, from, Bond’s, past, send...</td>\n",
       "    </tr>\n",
       "    <tr>\n",
       "      <th>3</th>\n",
       "      <td>49026</td>\n",
       "      <td>The Dark Knight Rises</td>\n",
       "      <td>[Following, the, death, of, District, Attorney...</td>\n",
       "    </tr>\n",
       "    <tr>\n",
       "      <th>4</th>\n",
       "      <td>49529</td>\n",
       "      <td>John Carter</td>\n",
       "      <td>[John, Carter, is, a, war-weary,, former, mili...</td>\n",
       "    </tr>\n",
       "    <tr>\n",
       "      <th>...</th>\n",
       "      <td>...</td>\n",
       "      <td>...</td>\n",
       "      <td>...</td>\n",
       "    </tr>\n",
       "    <tr>\n",
       "      <th>4804</th>\n",
       "      <td>9367</td>\n",
       "      <td>El Mariachi</td>\n",
       "      <td>[El, Mariachi, just, wants, to, play, his, gui...</td>\n",
       "    </tr>\n",
       "    <tr>\n",
       "      <th>4805</th>\n",
       "      <td>72766</td>\n",
       "      <td>Newlyweds</td>\n",
       "      <td>[A, newlywed, couple's, honeymoon, is, upended...</td>\n",
       "    </tr>\n",
       "    <tr>\n",
       "      <th>4806</th>\n",
       "      <td>231617</td>\n",
       "      <td>Signed, Sealed, Delivered</td>\n",
       "      <td>[\"Signed,, Sealed,, Delivered\", introduces, a,...</td>\n",
       "    </tr>\n",
       "    <tr>\n",
       "      <th>4807</th>\n",
       "      <td>126186</td>\n",
       "      <td>Shanghai Calling</td>\n",
       "      <td>[When, ambitious, New, York, attorney, Sam, is...</td>\n",
       "    </tr>\n",
       "    <tr>\n",
       "      <th>4808</th>\n",
       "      <td>25975</td>\n",
       "      <td>My Date with Drew</td>\n",
       "      <td>[Ever, since, the, second, grade, when, he, fi...</td>\n",
       "    </tr>\n",
       "  </tbody>\n",
       "</table>\n",
       "<p>4806 rows × 3 columns</p>\n",
       "</div>"
      ],
      "text/plain": [
       "      movie_id                                     title  \\\n",
       "0        19995                                    Avatar   \n",
       "1          285  Pirates of the Caribbean: At World's End   \n",
       "2       206647                                   Spectre   \n",
       "3        49026                     The Dark Knight Rises   \n",
       "4        49529                               John Carter   \n",
       "...        ...                                       ...   \n",
       "4804      9367                               El Mariachi   \n",
       "4805     72766                                 Newlyweds   \n",
       "4806    231617                 Signed, Sealed, Delivered   \n",
       "4807    126186                          Shanghai Calling   \n",
       "4808     25975                         My Date with Drew   \n",
       "\n",
       "                                                   tags  \n",
       "0     [In, the, 22nd, century,, a, paraplegic, Marin...  \n",
       "1     [Captain, Barbossa,, long, believed, to, be, d...  \n",
       "2     [A, cryptic, message, from, Bond’s, past, send...  \n",
       "3     [Following, the, death, of, District, Attorney...  \n",
       "4     [John, Carter, is, a, war-weary,, former, mili...  \n",
       "...                                                 ...  \n",
       "4804  [El, Mariachi, just, wants, to, play, his, gui...  \n",
       "4805  [A, newlywed, couple's, honeymoon, is, upended...  \n",
       "4806  [\"Signed,, Sealed,, Delivered\", introduces, a,...  \n",
       "4807  [When, ambitious, New, York, attorney, Sam, is...  \n",
       "4808  [Ever, since, the, second, grade, when, he, fi...  \n",
       "\n",
       "[4806 rows x 3 columns]"
      ]
     },
     "execution_count": 36,
     "metadata": {},
     "output_type": "execute_result"
    }
   ],
   "source": [
    "df"
   ]
  },
  {
   "cell_type": "code",
   "execution_count": 37,
   "id": "fc19e1e4",
   "metadata": {
    "execution": {
     "iopub.execute_input": "2023-03-25T11:59:42.585118Z",
     "iopub.status.busy": "2023-03-25T11:59:42.584615Z",
     "iopub.status.idle": "2023-03-25T11:59:42.599655Z",
     "shell.execute_reply": "2023-03-25T11:59:42.598683Z"
    },
    "papermill": {
     "duration": 0.032848,
     "end_time": "2023-03-25T11:59:42.601584",
     "exception": false,
     "start_time": "2023-03-25T11:59:42.568736",
     "status": "completed"
    },
    "tags": []
   },
   "outputs": [
    {
     "name": "stderr",
     "output_type": "stream",
     "text": [
      "/opt/conda/lib/python3.7/site-packages/ipykernel_launcher.py:2: SettingWithCopyWarning: \n",
      "A value is trying to be set on a copy of a slice from a DataFrame.\n",
      "Try using .loc[row_indexer,col_indexer] = value instead\n",
      "\n",
      "See the caveats in the documentation: https://pandas.pydata.org/pandas-docs/stable/user_guide/indexing.html#returning-a-view-versus-a-copy\n",
      "  \n"
     ]
    }
   ],
   "source": [
    "# converting list to the string\n",
    "df['tags']=df['tags'].apply(lambda x:' '.join(x))"
   ]
  },
  {
   "cell_type": "code",
   "execution_count": 38,
   "id": "0b828ce1",
   "metadata": {
    "execution": {
     "iopub.execute_input": "2023-03-25T11:59:42.633746Z",
     "iopub.status.busy": "2023-03-25T11:59:42.632963Z",
     "iopub.status.idle": "2023-03-25T11:59:42.643361Z",
     "shell.execute_reply": "2023-03-25T11:59:42.642681Z"
    },
    "papermill": {
     "duration": 0.02931,
     "end_time": "2023-03-25T11:59:42.645384",
     "exception": false,
     "start_time": "2023-03-25T11:59:42.616074",
     "status": "completed"
    },
    "tags": []
   },
   "outputs": [
    {
     "name": "stderr",
     "output_type": "stream",
     "text": [
      "/opt/conda/lib/python3.7/site-packages/ipykernel_launcher.py:2: SettingWithCopyWarning: \n",
      "A value is trying to be set on a copy of a slice from a DataFrame.\n",
      "Try using .loc[row_indexer,col_indexer] = value instead\n",
      "\n",
      "See the caveats in the documentation: https://pandas.pydata.org/pandas-docs/stable/user_guide/indexing.html#returning-a-view-versus-a-copy\n",
      "  \n"
     ]
    }
   ],
   "source": [
    "# converting all into lower case\n",
    "df['tags']=df['tags'].apply(lambda x: x.lower())"
   ]
  },
  {
   "cell_type": "code",
   "execution_count": 39,
   "id": "106e576c",
   "metadata": {
    "execution": {
     "iopub.execute_input": "2023-03-25T11:59:42.676830Z",
     "iopub.status.busy": "2023-03-25T11:59:42.676139Z",
     "iopub.status.idle": "2023-03-25T11:59:42.687403Z",
     "shell.execute_reply": "2023-03-25T11:59:42.686529Z"
    },
    "papermill": {
     "duration": 0.029029,
     "end_time": "2023-03-25T11:59:42.689186",
     "exception": false,
     "start_time": "2023-03-25T11:59:42.660157",
     "status": "completed"
    },
    "tags": []
   },
   "outputs": [
    {
     "data": {
      "text/html": [
       "<div>\n",
       "<style scoped>\n",
       "    .dataframe tbody tr th:only-of-type {\n",
       "        vertical-align: middle;\n",
       "    }\n",
       "\n",
       "    .dataframe tbody tr th {\n",
       "        vertical-align: top;\n",
       "    }\n",
       "\n",
       "    .dataframe thead th {\n",
       "        text-align: right;\n",
       "    }\n",
       "</style>\n",
       "<table border=\"1\" class=\"dataframe\">\n",
       "  <thead>\n",
       "    <tr style=\"text-align: right;\">\n",
       "      <th></th>\n",
       "      <th>movie_id</th>\n",
       "      <th>title</th>\n",
       "      <th>tags</th>\n",
       "    </tr>\n",
       "  </thead>\n",
       "  <tbody>\n",
       "    <tr>\n",
       "      <th>0</th>\n",
       "      <td>19995</td>\n",
       "      <td>Avatar</td>\n",
       "      <td>in the 22nd century, a paraplegic marine is di...</td>\n",
       "    </tr>\n",
       "    <tr>\n",
       "      <th>1</th>\n",
       "      <td>285</td>\n",
       "      <td>Pirates of the Caribbean: At World's End</td>\n",
       "      <td>captain barbossa, long believed to be dead, ha...</td>\n",
       "    </tr>\n",
       "    <tr>\n",
       "      <th>2</th>\n",
       "      <td>206647</td>\n",
       "      <td>Spectre</td>\n",
       "      <td>a cryptic message from bond’s past sends him o...</td>\n",
       "    </tr>\n",
       "    <tr>\n",
       "      <th>3</th>\n",
       "      <td>49026</td>\n",
       "      <td>The Dark Knight Rises</td>\n",
       "      <td>following the death of district attorney harve...</td>\n",
       "    </tr>\n",
       "    <tr>\n",
       "      <th>4</th>\n",
       "      <td>49529</td>\n",
       "      <td>John Carter</td>\n",
       "      <td>john carter is a war-weary, former military ca...</td>\n",
       "    </tr>\n",
       "    <tr>\n",
       "      <th>...</th>\n",
       "      <td>...</td>\n",
       "      <td>...</td>\n",
       "      <td>...</td>\n",
       "    </tr>\n",
       "    <tr>\n",
       "      <th>4804</th>\n",
       "      <td>9367</td>\n",
       "      <td>El Mariachi</td>\n",
       "      <td>el mariachi just wants to play his guitar and ...</td>\n",
       "    </tr>\n",
       "    <tr>\n",
       "      <th>4805</th>\n",
       "      <td>72766</td>\n",
       "      <td>Newlyweds</td>\n",
       "      <td>a newlywed couple's honeymoon is upended by th...</td>\n",
       "    </tr>\n",
       "    <tr>\n",
       "      <th>4806</th>\n",
       "      <td>231617</td>\n",
       "      <td>Signed, Sealed, Delivered</td>\n",
       "      <td>\"signed, sealed, delivered\" introduces a dedic...</td>\n",
       "    </tr>\n",
       "    <tr>\n",
       "      <th>4807</th>\n",
       "      <td>126186</td>\n",
       "      <td>Shanghai Calling</td>\n",
       "      <td>when ambitious new york attorney sam is sent t...</td>\n",
       "    </tr>\n",
       "    <tr>\n",
       "      <th>4808</th>\n",
       "      <td>25975</td>\n",
       "      <td>My Date with Drew</td>\n",
       "      <td>ever since the second grade when he first saw ...</td>\n",
       "    </tr>\n",
       "  </tbody>\n",
       "</table>\n",
       "<p>4806 rows × 3 columns</p>\n",
       "</div>"
      ],
      "text/plain": [
       "      movie_id                                     title  \\\n",
       "0        19995                                    Avatar   \n",
       "1          285  Pirates of the Caribbean: At World's End   \n",
       "2       206647                                   Spectre   \n",
       "3        49026                     The Dark Knight Rises   \n",
       "4        49529                               John Carter   \n",
       "...        ...                                       ...   \n",
       "4804      9367                               El Mariachi   \n",
       "4805     72766                                 Newlyweds   \n",
       "4806    231617                 Signed, Sealed, Delivered   \n",
       "4807    126186                          Shanghai Calling   \n",
       "4808     25975                         My Date with Drew   \n",
       "\n",
       "                                                   tags  \n",
       "0     in the 22nd century, a paraplegic marine is di...  \n",
       "1     captain barbossa, long believed to be dead, ha...  \n",
       "2     a cryptic message from bond’s past sends him o...  \n",
       "3     following the death of district attorney harve...  \n",
       "4     john carter is a war-weary, former military ca...  \n",
       "...                                                 ...  \n",
       "4804  el mariachi just wants to play his guitar and ...  \n",
       "4805  a newlywed couple's honeymoon is upended by th...  \n",
       "4806  \"signed, sealed, delivered\" introduces a dedic...  \n",
       "4807  when ambitious new york attorney sam is sent t...  \n",
       "4808  ever since the second grade when he first saw ...  \n",
       "\n",
       "[4806 rows x 3 columns]"
      ]
     },
     "execution_count": 39,
     "metadata": {},
     "output_type": "execute_result"
    }
   ],
   "source": [
    "df"
   ]
  },
  {
   "cell_type": "code",
   "execution_count": 40,
   "id": "24a9b8dc",
   "metadata": {
    "execution": {
     "iopub.execute_input": "2023-03-25T11:59:42.720827Z",
     "iopub.status.busy": "2023-03-25T11:59:42.720240Z",
     "iopub.status.idle": "2023-03-25T11:59:42.724005Z",
     "shell.execute_reply": "2023-03-25T11:59:42.723354Z"
    },
    "papermill": {
     "duration": 0.022425,
     "end_time": "2023-03-25T11:59:42.726394",
     "exception": false,
     "start_time": "2023-03-25T11:59:42.703969",
     "status": "completed"
    },
    "tags": []
   },
   "outputs": [],
   "source": [
    "# Creating the countvectorizer object\n",
    "cv=CountVectorizer(max_features=5000,stop_words='english')"
   ]
  },
  {
   "cell_type": "code",
   "execution_count": 41,
   "id": "d582dfd8",
   "metadata": {
    "execution": {
     "iopub.execute_input": "2023-03-25T11:59:42.758038Z",
     "iopub.status.busy": "2023-03-25T11:59:42.756946Z",
     "iopub.status.idle": "2023-03-25T11:59:43.130597Z",
     "shell.execute_reply": "2023-03-25T11:59:43.129169Z"
    },
    "papermill": {
     "duration": 0.392306,
     "end_time": "2023-03-25T11:59:43.133462",
     "exception": false,
     "start_time": "2023-03-25T11:59:42.741156",
     "status": "completed"
    },
    "tags": []
   },
   "outputs": [],
   "source": [
    "# text vectorization\n",
    "vectors=cv.fit_transform(df['tags']).toarray()"
   ]
  },
  {
   "cell_type": "code",
   "execution_count": 42,
   "id": "9fd43e0a",
   "metadata": {
    "execution": {
     "iopub.execute_input": "2023-03-25T11:59:43.164280Z",
     "iopub.status.busy": "2023-03-25T11:59:43.163938Z",
     "iopub.status.idle": "2023-03-25T11:59:43.175314Z",
     "shell.execute_reply": "2023-03-25T11:59:43.174119Z"
    },
    "papermill": {
     "duration": 0.029147,
     "end_time": "2023-03-25T11:59:43.177476",
     "exception": false,
     "start_time": "2023-03-25T11:59:43.148329",
     "status": "completed"
    },
    "tags": []
   },
   "outputs": [
    {
     "name": "stderr",
     "output_type": "stream",
     "text": [
      "/opt/conda/lib/python3.7/site-packages/sklearn/utils/deprecation.py:87: FutureWarning: Function get_feature_names is deprecated; get_feature_names is deprecated in 1.0 and will be removed in 1.2. Please use get_feature_names_out instead.\n",
      "  warnings.warn(msg, category=FutureWarning)\n"
     ]
    },
    {
     "data": {
      "text/plain": [
       "['abducted',\n",
       " 'abigailbreslin',\n",
       " 'abilities',\n",
       " 'ability',\n",
       " 'able',\n",
       " 'aboard',\n",
       " 'abuse',\n",
       " 'abusive',\n",
       " 'academic',\n",
       " 'academy',\n",
       " 'accept',\n",
       " 'accepted',\n",
       " 'accepts',\n",
       " 'access',\n",
       " 'accident',\n",
       " 'accidental',\n",
       " 'accidentally',\n",
       " 'accompanied',\n",
       " 'accomplish',\n",
       " 'account',\n",
       " 'accountant',\n",
       " 'accused',\n",
       " 'ace',\n",
       " 'achieve',\n",
       " 'act',\n",
       " 'acting',\n",
       " 'action',\n",
       " 'actionhero',\n",
       " 'actions',\n",
       " 'activist',\n",
       " 'activities',\n",
       " 'activity',\n",
       " 'actor',\n",
       " 'actors',\n",
       " 'actress',\n",
       " 'acts',\n",
       " 'actual',\n",
       " 'actually',\n",
       " 'adam',\n",
       " 'adams',\n",
       " 'adamsandler',\n",
       " 'adamshankman',\n",
       " 'adaptation',\n",
       " 'adapted',\n",
       " 'addict',\n",
       " 'addicted',\n",
       " 'addiction',\n",
       " 'adolescence',\n",
       " 'adopt',\n",
       " 'adopted']"
      ]
     },
     "execution_count": 42,
     "metadata": {},
     "output_type": "execute_result"
    }
   ],
   "source": [
    "# to get most recurrent 5000 words\n",
    "cv.get_feature_names()[50:100]"
   ]
  },
  {
   "cell_type": "markdown",
   "id": "5adab586",
   "metadata": {
    "papermill": {
     "duration": 0.01478,
     "end_time": "2023-03-25T11:59:43.207369",
     "exception": false,
     "start_time": "2023-03-25T11:59:43.192589",
     "status": "completed"
    },
    "tags": []
   },
   "source": [
    "As you see there are lots off same words having same meaning are occured\n",
    "like \"actual\",\"actually\"\n",
    "And we have to remove such words\n",
    "So we have to do steamming"
   ]
  },
  {
   "cell_type": "markdown",
   "id": "7f399e98",
   "metadata": {
    "papermill": {
     "duration": 0.01465,
     "end_time": "2023-03-25T11:59:43.237011",
     "exception": false,
     "start_time": "2023-03-25T11:59:43.222361",
     "status": "completed"
    },
    "tags": []
   },
   "source": [
    "## Steamming"
   ]
  },
  {
   "cell_type": "code",
   "execution_count": 43,
   "id": "e0edf971",
   "metadata": {
    "execution": {
     "iopub.execute_input": "2023-03-25T11:59:43.268920Z",
     "iopub.status.busy": "2023-03-25T11:59:43.268286Z",
     "iopub.status.idle": "2023-03-25T11:59:43.273169Z",
     "shell.execute_reply": "2023-03-25T11:59:43.272412Z"
    },
    "papermill": {
     "duration": 0.022906,
     "end_time": "2023-03-25T11:59:43.274990",
     "exception": false,
     "start_time": "2023-03-25T11:59:43.252084",
     "status": "completed"
    },
    "tags": []
   },
   "outputs": [],
   "source": [
    "# object of porterstemmer for steamming\n",
    "ps=PorterStemmer()"
   ]
  },
  {
   "cell_type": "code",
   "execution_count": 44,
   "id": "de0b2d3f",
   "metadata": {
    "execution": {
     "iopub.execute_input": "2023-03-25T11:59:43.306821Z",
     "iopub.status.busy": "2023-03-25T11:59:43.306087Z",
     "iopub.status.idle": "2023-03-25T11:59:43.311528Z",
     "shell.execute_reply": "2023-03-25T11:59:43.310494Z"
    },
    "papermill": {
     "duration": 0.023709,
     "end_time": "2023-03-25T11:59:43.313754",
     "exception": false,
     "start_time": "2023-03-25T11:59:43.290045",
     "status": "completed"
    },
    "tags": []
   },
   "outputs": [],
   "source": [
    "def stemming(text):\n",
    "    L=[]\n",
    "    for i in text.split():\n",
    "        L.append(ps.stem(i))\n",
    "    return \" \".join(L)"
   ]
  },
  {
   "cell_type": "code",
   "execution_count": 45,
   "id": "540533a5",
   "metadata": {
    "execution": {
     "iopub.execute_input": "2023-03-25T11:59:43.346043Z",
     "iopub.status.busy": "2023-03-25T11:59:43.345607Z",
     "iopub.status.idle": "2023-03-25T11:59:50.030223Z",
     "shell.execute_reply": "2023-03-25T11:59:50.028770Z"
    },
    "papermill": {
     "duration": 6.704055,
     "end_time": "2023-03-25T11:59:50.033102",
     "exception": false,
     "start_time": "2023-03-25T11:59:43.329047",
     "status": "completed"
    },
    "tags": []
   },
   "outputs": [
    {
     "name": "stderr",
     "output_type": "stream",
     "text": [
      "/opt/conda/lib/python3.7/site-packages/ipykernel_launcher.py:1: SettingWithCopyWarning: \n",
      "A value is trying to be set on a copy of a slice from a DataFrame.\n",
      "Try using .loc[row_indexer,col_indexer] = value instead\n",
      "\n",
      "See the caveats in the documentation: https://pandas.pydata.org/pandas-docs/stable/user_guide/indexing.html#returning-a-view-versus-a-copy\n",
      "  \"\"\"Entry point for launching an IPython kernel.\n"
     ]
    }
   ],
   "source": [
    "df['tags']=df['tags'].apply(stemming)"
   ]
  },
  {
   "cell_type": "code",
   "execution_count": 46,
   "id": "434453af",
   "metadata": {
    "execution": {
     "iopub.execute_input": "2023-03-25T11:59:50.065720Z",
     "iopub.status.busy": "2023-03-25T11:59:50.065325Z",
     "iopub.status.idle": "2023-03-25T11:59:50.073150Z",
     "shell.execute_reply": "2023-03-25T11:59:50.072079Z"
    },
    "papermill": {
     "duration": 0.026472,
     "end_time": "2023-03-25T11:59:50.075194",
     "exception": false,
     "start_time": "2023-03-25T11:59:50.048722",
     "status": "completed"
    },
    "tags": []
   },
   "outputs": [],
   "source": [
    "cv=CountVectorizer(max_features=5000,stop_words='english')"
   ]
  },
  {
   "cell_type": "code",
   "execution_count": 47,
   "id": "de911959",
   "metadata": {
    "execution": {
     "iopub.execute_input": "2023-03-25T11:59:50.108150Z",
     "iopub.status.busy": "2023-03-25T11:59:50.107773Z",
     "iopub.status.idle": "2023-03-25T11:59:50.449937Z",
     "shell.execute_reply": "2023-03-25T11:59:50.449005Z"
    },
    "papermill": {
     "duration": 0.361079,
     "end_time": "2023-03-25T11:59:50.452158",
     "exception": false,
     "start_time": "2023-03-25T11:59:50.091079",
     "status": "completed"
    },
    "tags": []
   },
   "outputs": [],
   "source": [
    "vectors=cv.fit_transform(df['tags']).toarray()"
   ]
  },
  {
   "cell_type": "code",
   "execution_count": 48,
   "id": "029e1b8c",
   "metadata": {
    "execution": {
     "iopub.execute_input": "2023-03-25T11:59:50.485054Z",
     "iopub.status.busy": "2023-03-25T11:59:50.484666Z",
     "iopub.status.idle": "2023-03-25T11:59:50.491058Z",
     "shell.execute_reply": "2023-03-25T11:59:50.490260Z"
    },
    "papermill": {
     "duration": 0.025563,
     "end_time": "2023-03-25T11:59:50.493437",
     "exception": false,
     "start_time": "2023-03-25T11:59:50.467874",
     "status": "completed"
    },
    "tags": []
   },
   "outputs": [
    {
     "data": {
      "text/plain": [
       "array([[0, 0, 0, ..., 0, 0, 0],\n",
       "       [0, 0, 0, ..., 0, 0, 0],\n",
       "       [0, 0, 0, ..., 0, 0, 0],\n",
       "       ...,\n",
       "       [0, 0, 0, ..., 0, 0, 0],\n",
       "       [0, 0, 0, ..., 0, 0, 0],\n",
       "       [0, 0, 0, ..., 0, 0, 0]])"
      ]
     },
     "execution_count": 48,
     "metadata": {},
     "output_type": "execute_result"
    }
   ],
   "source": [
    "vectors"
   ]
  },
  {
   "cell_type": "code",
   "execution_count": 49,
   "id": "7bebe2cc",
   "metadata": {
    "execution": {
     "iopub.execute_input": "2023-03-25T11:59:50.525721Z",
     "iopub.status.busy": "2023-03-25T11:59:50.525331Z",
     "iopub.status.idle": "2023-03-25T11:59:50.535344Z",
     "shell.execute_reply": "2023-03-25T11:59:50.534704Z"
    },
    "papermill": {
     "duration": 0.02857,
     "end_time": "2023-03-25T11:59:50.537262",
     "exception": false,
     "start_time": "2023-03-25T11:59:50.508692",
     "status": "completed"
    },
    "tags": []
   },
   "outputs": [
    {
     "data": {
      "text/plain": [
       "['500',\n",
       " '60',\n",
       " '70',\n",
       " '80',\n",
       " 'aaron',\n",
       " 'aaroneckhart',\n",
       " 'abandon',\n",
       " 'abduct',\n",
       " 'abigailbreslin',\n",
       " 'abil',\n",
       " 'abl',\n",
       " 'aboard',\n",
       " 'abov',\n",
       " 'abus',\n",
       " 'academ',\n",
       " 'academi',\n",
       " 'accept',\n",
       " 'access',\n",
       " 'accid',\n",
       " 'accident',\n",
       " 'acclaim',\n",
       " 'accompani',\n",
       " 'accomplish',\n",
       " 'account',\n",
       " 'accus',\n",
       " 'ace',\n",
       " 'achiev',\n",
       " 'acquaint',\n",
       " 'act',\n",
       " 'action',\n",
       " 'actionhero',\n",
       " 'activ',\n",
       " 'activist',\n",
       " 'activities',\n",
       " 'actor',\n",
       " 'actress',\n",
       " 'actual',\n",
       " 'ad',\n",
       " 'adam',\n",
       " 'adamsandl',\n",
       " 'adamshankman',\n",
       " 'adapt',\n",
       " 'add',\n",
       " 'addict',\n",
       " 'adjust',\n",
       " 'admir',\n",
       " 'admit',\n",
       " 'adolesc',\n",
       " 'adopt',\n",
       " 'ador']"
      ]
     },
     "execution_count": 49,
     "metadata": {},
     "output_type": "execute_result"
    }
   ],
   "source": [
    "cv.get_feature_names()[50:100]"
   ]
  },
  {
   "cell_type": "markdown",
   "id": "da534a95",
   "metadata": {
    "papermill": {
     "duration": 0.014876,
     "end_time": "2023-03-25T11:59:50.568215",
     "exception": false,
     "start_time": "2023-03-25T11:59:50.553339",
     "status": "completed"
    },
    "tags": []
   },
   "source": [
    "## Cosine Similarity"
   ]
  },
  {
   "cell_type": "code",
   "execution_count": 50,
   "id": "1ac5adb1",
   "metadata": {
    "execution": {
     "iopub.execute_input": "2023-03-25T11:59:50.599808Z",
     "iopub.status.busy": "2023-03-25T11:59:50.599371Z",
     "iopub.status.idle": "2023-03-25T11:59:52.047025Z",
     "shell.execute_reply": "2023-03-25T11:59:52.046213Z"
    },
    "papermill": {
     "duration": 1.466371,
     "end_time": "2023-03-25T11:59:52.049464",
     "exception": false,
     "start_time": "2023-03-25T11:59:50.583093",
     "status": "completed"
    },
    "tags": []
   },
   "outputs": [],
   "source": [
    "# cosine similarity to check the similarity between different movies\n",
    "similarity=cosine_similarity(vectors)"
   ]
  },
  {
   "cell_type": "code",
   "execution_count": 51,
   "id": "de7e1928",
   "metadata": {
    "execution": {
     "iopub.execute_input": "2023-03-25T11:59:52.093710Z",
     "iopub.status.busy": "2023-03-25T11:59:52.092830Z",
     "iopub.status.idle": "2023-03-25T11:59:52.098817Z",
     "shell.execute_reply": "2023-03-25T11:59:52.098157Z"
    },
    "papermill": {
     "duration": 0.033661,
     "end_time": "2023-03-25T11:59:52.103259",
     "exception": false,
     "start_time": "2023-03-25T11:59:52.069598",
     "status": "completed"
    },
    "tags": []
   },
   "outputs": [
    {
     "data": {
      "text/plain": [
       "array([[1.        , 0.08346223, 0.0860309 , ..., 0.04499213, 0.        ,\n",
       "        0.        ],\n",
       "       [0.08346223, 1.        , 0.06063391, ..., 0.02378257, 0.        ,\n",
       "        0.02615329],\n",
       "       [0.0860309 , 0.06063391, 1.        , ..., 0.02451452, 0.        ,\n",
       "        0.        ],\n",
       "       ...,\n",
       "       [0.04499213, 0.02378257, 0.02451452, ..., 1.        , 0.03962144,\n",
       "        0.04229549],\n",
       "       [0.        , 0.        , 0.        , ..., 0.03962144, 1.        ,\n",
       "        0.08714204],\n",
       "       [0.        , 0.02615329, 0.        , ..., 0.04229549, 0.08714204,\n",
       "        1.        ]])"
      ]
     },
     "execution_count": 51,
     "metadata": {},
     "output_type": "execute_result"
    }
   ],
   "source": [
    "similarity"
   ]
  },
  {
   "cell_type": "markdown",
   "id": "1cf6dc74",
   "metadata": {
    "papermill": {
     "duration": 0.017659,
     "end_time": "2023-03-25T11:59:52.140574",
     "exception": false,
     "start_time": "2023-03-25T11:59:52.122915",
     "status": "completed"
    },
    "tags": []
   },
   "source": [
    "## Model Building"
   ]
  },
  {
   "cell_type": "code",
   "execution_count": 52,
   "id": "d19764ce",
   "metadata": {
    "execution": {
     "iopub.execute_input": "2023-03-25T11:59:52.172186Z",
     "iopub.status.busy": "2023-03-25T11:59:52.171839Z",
     "iopub.status.idle": "2023-03-25T11:59:52.177345Z",
     "shell.execute_reply": "2023-03-25T11:59:52.176463Z"
    },
    "papermill": {
     "duration": 0.023744,
     "end_time": "2023-03-25T11:59:52.179417",
     "exception": false,
     "start_time": "2023-03-25T11:59:52.155673",
     "status": "completed"
    },
    "tags": []
   },
   "outputs": [],
   "source": [
    "def recommand(movie):\n",
    "    movie_index=df[df['title']==movie].index[0]\n",
    "    distance=similarity[movie_index]\n",
    "    movies_list=sorted(list(enumerate(distance)),reverse=True,key=lambda x:x[1])[1:6]\n",
    "    for i in movies_list:\n",
    "        print(df.iloc[i[0]]['title'])"
   ]
  },
  {
   "cell_type": "code",
   "execution_count": 53,
   "id": "f8fee66b",
   "metadata": {
    "execution": {
     "iopub.execute_input": "2023-03-25T11:59:52.212389Z",
     "iopub.status.busy": "2023-03-25T11:59:52.211265Z",
     "iopub.status.idle": "2023-03-25T11:59:52.222684Z",
     "shell.execute_reply": "2023-03-25T11:59:52.221632Z"
    },
    "papermill": {
     "duration": 0.03011,
     "end_time": "2023-03-25T11:59:52.224808",
     "exception": false,
     "start_time": "2023-03-25T11:59:52.194698",
     "status": "completed"
    },
    "tags": []
   },
   "outputs": [
    {
     "name": "stdout",
     "output_type": "stream",
     "text": [
      "Quantum of Solace\n",
      "Skyfall\n",
      "Never Say Never Again\n",
      "From Russia with Love\n",
      "Octopussy\n"
     ]
    }
   ],
   "source": [
    "recommand(\"Spectre\")"
   ]
  }
 ],
 "metadata": {
  "kernelspec": {
   "display_name": "Python 3",
   "language": "python",
   "name": "python3"
  },
  "language_info": {
   "codemirror_mode": {
    "name": "ipython",
    "version": 3
   },
   "file_extension": ".py",
   "mimetype": "text/x-python",
   "name": "python",
   "nbconvert_exporter": "python",
   "pygments_lexer": "ipython3",
   "version": "3.7.12"
  },
  "papermill": {
   "default_parameters": {},
   "duration": 30.799685,
   "end_time": "2023-03-25T11:59:53.062286",
   "environment_variables": {},
   "exception": null,
   "input_path": "__notebook__.ipynb",
   "output_path": "__notebook__.ipynb",
   "parameters": {},
   "start_time": "2023-03-25T11:59:22.262601",
   "version": "2.3.4"
  }
 },
 "nbformat": 4,
 "nbformat_minor": 5
}
